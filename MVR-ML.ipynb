{
 "cells": [
  {
   "cell_type": "code",
   "execution_count": 1,
   "metadata": {},
   "outputs": [],
   "source": [
    "import numpy as ny\n",
    "%matplotlib inline\n",
    "import pandas as ps\n",
    "import matplotlib.pyplot as ml\n",
    "import seaborn as sb\n",
    "from sklearn.linear_model import LinearRegression\n",
    "from sklearn.metrics import mean_squared_error\n",
    "from sklearn.preprocessing import PolynomialFeatures\n",
    "from sklearn.metrics import mean_absolute_error\n",
    "from sklearn import datasets\n",
    "from sklearn.pipeline import make_pipeline\n"
   ]
  },
  {
   "cell_type": "code",
   "execution_count": 62,
   "metadata": {},
   "outputs": [],
   "source": [
    "ny.random.seed(0)\n",
    "X=2-ny.random.normal(0,3,9)\n",
    "Y=2-X+0.2*X**2"
   ]
  },
  {
   "cell_type": "code",
   "execution_count": 63,
   "metadata": {},
   "outputs": [
    {
     "name": "stdout",
     "output_type": "stream",
     "text": [
      "[[-3.29215704]\n",
      " [ 0.79952837]\n",
      " [-0.93621395]\n",
      " [-4.7226796 ]\n",
      " [-3.60267397]\n",
      " [ 4.93183364]\n",
      " [-0.85026525]\n",
      " [ 2.45407162]\n",
      " [ 2.30965656]] \n",
      " y \n",
      " [[ 7.45981663]\n",
      " [ 1.32832075]\n",
      " [ 3.11151327]\n",
      " [11.18342011]\n",
      " [ 8.19852592]\n",
      " [ 1.93276297]\n",
      " [ 2.99485545]\n",
      " [ 0.75042188]\n",
      " [ 0.75724613]]\n"
     ]
    }
   ],
   "source": [
    "x=X[:,ny.newaxis]\n",
    "y=Y.reshape(-1,1)\n",
    "print(x,\"\\n\",'y',\"\\n\",y)"
   ]
  },
  {
   "cell_type": "code",
   "execution_count": 64,
   "metadata": {},
   "outputs": [
    {
     "data": {
      "text/plain": [
       "LinearRegression(copy_X=True, fit_intercept=True, n_jobs=None, normalize=False)"
      ]
     },
     "execution_count": 64,
     "metadata": {},
     "output_type": "execute_result"
    }
   ],
   "source": [
    "MM=LinearRegression()\n",
    "MM.fit(x,y)"
   ]
  },
  {
   "cell_type": "code",
   "execution_count": 65,
   "metadata": {},
   "outputs": [
    {
     "data": {
      "text/plain": [
       "0.7727817756919656"
      ]
     },
     "execution_count": 65,
     "metadata": {},
     "output_type": "execute_result"
    }
   ],
   "source": [
    "MM.score(x,y)"
   ]
  },
  {
   "cell_type": "code",
   "execution_count": 66,
   "metadata": {},
   "outputs": [
    {
     "data": {
      "text/plain": [
       "array([[-1.03484694]])"
      ]
     },
     "execution_count": 66,
     "metadata": {},
     "output_type": "execute_result"
    }
   ],
   "source": [
    "MM.coef_"
   ]
  },
  {
   "cell_type": "code",
   "execution_count": 67,
   "metadata": {},
   "outputs": [
    {
     "data": {
      "text/plain": [
       "array([3.8562908])"
      ]
     },
     "execution_count": 67,
     "metadata": {},
     "output_type": "execute_result"
    }
   ],
   "source": [
    "MM.intercept_"
   ]
  },
  {
   "cell_type": "code",
   "execution_count": 89,
   "metadata": {},
   "outputs": [
    {
     "data": {
      "text/plain": [
       "58.60741245676464"
      ]
     },
     "execution_count": 89,
     "metadata": {},
     "output_type": "execute_result"
    }
   ],
   "source": [
    "mean_squared_error(x,MM.predict(x))"
   ]
  },
  {
   "cell_type": "code",
   "execution_count": 69,
   "metadata": {},
   "outputs": [
    {
     "data": {
      "text/plain": [
       "[<matplotlib.lines.Line2D at 0x212863f35c8>]"
      ]
     },
     "execution_count": 69,
     "metadata": {},
     "output_type": "execute_result"
    },
    {
     "data": {
      "image/png": "[encoded data removed]",
      "text/plain": [
       "<Figure size 432x288 with 1 Axes>"
      ]
     },
     "metadata": {
      "needs_background": "light"
     },
     "output_type": "display_data"
    }
   ],
   "source": [
    "ml.scatter(x,y)\n",
    "ml.plot(MM.predict(x))"
   ]
  },
  {
   "cell_type": "code",
   "execution_count": 100,
   "metadata": {},
   "outputs": [],
   "source": [
    "from sklearn.datasets import load_boston\n",
    "DF = load_boston()\n"
   ]
  },
  {
   "cell_type": "code",
   "execution_count": 103,
   "metadata": {},
   "outputs": [],
   "source": [
    "DF=ps.DataFrame(load_boston().data)"
   ]
  },
  {
   "cell_type": "code",
   "execution_count": 104,
   "metadata": {},
   "outputs": [
    {
     "data": {
      "text/html": [
       "<div>\n",
       "<style scoped>\n",
       "    .dataframe tbody tr th:only-of-type {\n",
       "        vertical-align: middle;\n",
       "    }\n",
       "\n",
       "    .dataframe tbody tr th {\n",
       "        vertical-align: top;\n",
       "    }\n",
       "\n",
       "    .dataframe thead th {\n",
       "        text-align: right;\n",
       "    }\n",
       "</style>\n",
       "<table border=\"1\" class=\"dataframe\">\n",
       "  <thead>\n",
       "    <tr style=\"text-align: right;\">\n",
       "      <th></th>\n",
       "      <th>0</th>\n",
       "      <th>1</th>\n",
       "      <th>2</th>\n",
       "      <th>3</th>\n",
       "      <th>4</th>\n",
       "      <th>5</th>\n",
       "      <th>6</th>\n",
       "      <th>7</th>\n",
       "      <th>8</th>\n",
       "      <th>9</th>\n",
       "      <th>10</th>\n",
       "      <th>11</th>\n",
       "      <th>12</th>\n",
       "    </tr>\n",
       "  </thead>\n",
       "  <tbody>\n",
       "    <tr>\n",
       "      <td>0</td>\n",
       "      <td>0.00632</td>\n",
       "      <td>18.0</td>\n",
       "      <td>2.31</td>\n",
       "      <td>0.0</td>\n",
       "      <td>0.538</td>\n",
       "      <td>6.575</td>\n",
       "      <td>65.2</td>\n",
       "      <td>4.0900</td>\n",
       "      <td>1.0</td>\n",
       "      <td>296.0</td>\n",
       "      <td>15.3</td>\n",
       "      <td>396.90</td>\n",
       "      <td>4.98</td>\n",
       "    </tr>\n",
       "    <tr>\n",
       "      <td>1</td>\n",
       "      <td>0.02731</td>\n",
       "      <td>0.0</td>\n",
       "      <td>7.07</td>\n",
       "      <td>0.0</td>\n",
       "      <td>0.469</td>\n",
       "      <td>6.421</td>\n",
       "      <td>78.9</td>\n",
       "      <td>4.9671</td>\n",
       "      <td>2.0</td>\n",
       "      <td>242.0</td>\n",
       "      <td>17.8</td>\n",
       "      <td>396.90</td>\n",
       "      <td>9.14</td>\n",
       "    </tr>\n",
       "    <tr>\n",
       "      <td>2</td>\n",
       "      <td>0.02729</td>\n",
       "      <td>0.0</td>\n",
       "      <td>7.07</td>\n",
       "      <td>0.0</td>\n",
       "      <td>0.469</td>\n",
       "      <td>7.185</td>\n",
       "      <td>61.1</td>\n",
       "      <td>4.9671</td>\n",
       "      <td>2.0</td>\n",
       "      <td>242.0</td>\n",
       "      <td>17.8</td>\n",
       "      <td>392.83</td>\n",
       "      <td>4.03</td>\n",
       "    </tr>\n",
       "    <tr>\n",
       "      <td>3</td>\n",
       "      <td>0.03237</td>\n",
       "      <td>0.0</td>\n",
       "      <td>2.18</td>\n",
       "      <td>0.0</td>\n",
       "      <td>0.458</td>\n",
       "      <td>6.998</td>\n",
       "      <td>45.8</td>\n",
       "      <td>6.0622</td>\n",
       "      <td>3.0</td>\n",
       "      <td>222.0</td>\n",
       "      <td>18.7</td>\n",
       "      <td>394.63</td>\n",
       "      <td>2.94</td>\n",
       "    </tr>\n",
       "    <tr>\n",
       "      <td>4</td>\n",
       "      <td>0.06905</td>\n",
       "      <td>0.0</td>\n",
       "      <td>2.18</td>\n",
       "      <td>0.0</td>\n",
       "      <td>0.458</td>\n",
       "      <td>7.147</td>\n",
       "      <td>54.2</td>\n",
       "      <td>6.0622</td>\n",
       "      <td>3.0</td>\n",
       "      <td>222.0</td>\n",
       "      <td>18.7</td>\n",
       "      <td>396.90</td>\n",
       "      <td>5.33</td>\n",
       "    </tr>\n",
       "    <tr>\n",
       "      <td>...</td>\n",
       "      <td>...</td>\n",
       "      <td>...</td>\n",
       "      <td>...</td>\n",
       "      <td>...</td>\n",
       "      <td>...</td>\n",
       "      <td>...</td>\n",
       "      <td>...</td>\n",
       "      <td>...</td>\n",
       "      <td>...</td>\n",
       "      <td>...</td>\n",
       "      <td>...</td>\n",
       "      <td>...</td>\n",
       "      <td>...</td>\n",
       "    </tr>\n",
       "    <tr>\n",
       "      <td>501</td>\n",
       "      <td>0.06263</td>\n",
       "      <td>0.0</td>\n",
       "      <td>11.93</td>\n",
       "      <td>0.0</td>\n",
       "      <td>0.573</td>\n",
       "      <td>6.593</td>\n",
       "      <td>69.1</td>\n",
       "      <td>2.4786</td>\n",
       "      <td>1.0</td>\n",
       "      <td>273.0</td>\n",
       "      <td>21.0</td>\n",
       "      <td>391.99</td>\n",
       "      <td>9.67</td>\n",
       "    </tr>\n",
       "    <tr>\n",
       "      <td>502</td>\n",
       "      <td>0.04527</td>\n",
       "      <td>0.0</td>\n",
       "      <td>11.93</td>\n",
       "      <td>0.0</td>\n",
       "      <td>0.573</td>\n",
       "      <td>6.120</td>\n",
       "      <td>76.7</td>\n",
       "      <td>2.2875</td>\n",
       "      <td>1.0</td>\n",
       "      <td>273.0</td>\n",
       "      <td>21.0</td>\n",
       "      <td>396.90</td>\n",
       "      <td>9.08</td>\n",
       "    </tr>\n",
       "    <tr>\n",
       "      <td>503</td>\n",
       "      <td>0.06076</td>\n",
       "      <td>0.0</td>\n",
       "      <td>11.93</td>\n",
       "      <td>0.0</td>\n",
       "      <td>0.573</td>\n",
       "      <td>6.976</td>\n",
       "      <td>91.0</td>\n",
       "      <td>2.1675</td>\n",
       "      <td>1.0</td>\n",
       "      <td>273.0</td>\n",
       "      <td>21.0</td>\n",
       "      <td>396.90</td>\n",
       "      <td>5.64</td>\n",
       "    </tr>\n",
       "    <tr>\n",
       "      <td>504</td>\n",
       "      <td>0.10959</td>\n",
       "      <td>0.0</td>\n",
       "      <td>11.93</td>\n",
       "      <td>0.0</td>\n",
       "      <td>0.573</td>\n",
       "      <td>6.794</td>\n",
       "      <td>89.3</td>\n",
       "      <td>2.3889</td>\n",
       "      <td>1.0</td>\n",
       "      <td>273.0</td>\n",
       "      <td>21.0</td>\n",
       "      <td>393.45</td>\n",
       "      <td>6.48</td>\n",
       "    </tr>\n",
       "    <tr>\n",
       "      <td>505</td>\n",
       "      <td>0.04741</td>\n",
       "      <td>0.0</td>\n",
       "      <td>11.93</td>\n",
       "      <td>0.0</td>\n",
       "      <td>0.573</td>\n",
       "      <td>6.030</td>\n",
       "      <td>80.8</td>\n",
       "      <td>2.5050</td>\n",
       "      <td>1.0</td>\n",
       "      <td>273.0</td>\n",
       "      <td>21.0</td>\n",
       "      <td>396.90</td>\n",
       "      <td>7.88</td>\n",
       "    </tr>\n",
       "  </tbody>\n",
       "</table>\n",
       "<p>506 rows × 13 columns</p>\n",
       "</div>"
      ],
      "text/plain": [
       "           0     1      2    3      4      5     6       7    8      9    10  \\\n",
       "0    0.00632  18.0   2.31  0.0  0.538  6.575  65.2  4.0900  1.0  296.0  15.3   \n",
       "1    0.02731   0.0   7.07  0.0  0.469  6.421  78.9  4.9671  2.0  242.0  17.8   \n",
       "2    0.02729   0.0   7.07  0.0  0.469  7.185  61.1  4.9671  2.0  242.0  17.8   \n",
       "3    0.03237   0.0   2.18  0.0  0.458  6.998  45.8  6.0622  3.0  222.0  18.7   \n",
       "4    0.06905   0.0   2.18  0.0  0.458  7.147  54.2  6.0622  3.0  222.0  18.7   \n",
       "..       ...   ...    ...  ...    ...    ...   ...     ...  ...    ...   ...   \n",
       "501  0.06263   0.0  11.93  0.0  0.573  6.593  69.1  2.4786  1.0  273.0  21.0   \n",
       "502  0.04527   0.0  11.93  0.0  0.573  6.120  76.7  2.2875  1.0  273.0  21.0   \n",
       "503  0.06076   0.0  11.93  0.0  0.573  6.976  91.0  2.1675  1.0  273.0  21.0   \n",
       "504  0.10959   0.0  11.93  0.0  0.573  6.794  89.3  2.3889  1.0  273.0  21.0   \n",
       "505  0.04741   0.0  11.93  0.0  0.573  6.030  80.8  2.5050  1.0  273.0  21.0   \n",
       "\n",
       "         11    12  \n",
       "0    396.90  4.98  \n",
       "1    396.90  9.14  \n",
       "2    392.83  4.03  \n",
       "3    394.63  2.94  \n",
       "4    396.90  5.33  \n",
       "..      ...   ...  \n",
       "501  391.99  9.67  \n",
       "502  396.90  9.08  \n",
       "503  396.90  5.64  \n",
       "504  393.45  6.48  \n",
       "505  396.90  7.88  \n",
       "\n",
       "[506 rows x 13 columns]"
      ]
     },
     "execution_count": 104,
     "metadata": {},
     "output_type": "execute_result"
    }
   ],
   "source": [
    "DF"
   ]
  },
  {
   "cell_type": "code",
   "execution_count": 124,
   "metadata": {},
   "outputs": [],
   "source": [
    "DF.columns=[\"a\",\"b\",\"c\",\"d\",\"e\",\"f\",\"g\",\"h\",\"i\",\"j\",\"k\",\"l\",\"m\"]"
   ]
  },
  {
   "cell_type": "code",
   "execution_count": 125,
   "metadata": {},
   "outputs": [
    {
     "data": {
      "text/html": [
       "<div>\n",
       "<style scoped>\n",
       "    .dataframe tbody tr th:only-of-type {\n",
       "        vertical-align: middle;\n",
       "    }\n",
       "\n",
       "    .dataframe tbody tr th {\n",
       "        vertical-align: top;\n",
       "    }\n",
       "\n",
       "    .dataframe thead th {\n",
       "        text-align: right;\n",
       "    }\n",
       "</style>\n",
       "<table border=\"1\" class=\"dataframe\">\n",
       "  <thead>\n",
       "    <tr style=\"text-align: right;\">\n",
       "      <th></th>\n",
       "      <th>a</th>\n",
       "      <th>b</th>\n",
       "      <th>c</th>\n",
       "      <th>d</th>\n",
       "      <th>e</th>\n",
       "      <th>f</th>\n",
       "      <th>g</th>\n",
       "      <th>h</th>\n",
       "      <th>i</th>\n",
       "      <th>j</th>\n",
       "      <th>k</th>\n",
       "      <th>l</th>\n",
       "      <th>m</th>\n",
       "    </tr>\n",
       "  </thead>\n",
       "  <tbody>\n",
       "    <tr>\n",
       "      <td>count</td>\n",
       "      <td>506.000000</td>\n",
       "      <td>506.000000</td>\n",
       "      <td>506.000000</td>\n",
       "      <td>506.000000</td>\n",
       "      <td>506.000000</td>\n",
       "      <td>506.000000</td>\n",
       "      <td>506.000000</td>\n",
       "      <td>506.000000</td>\n",
       "      <td>506.000000</td>\n",
       "      <td>506.000000</td>\n",
       "      <td>506.000000</td>\n",
       "      <td>506.000000</td>\n",
       "      <td>506.000000</td>\n",
       "    </tr>\n",
       "    <tr>\n",
       "      <td>mean</td>\n",
       "      <td>3.613524</td>\n",
       "      <td>11.363636</td>\n",
       "      <td>11.136779</td>\n",
       "      <td>0.069170</td>\n",
       "      <td>0.554695</td>\n",
       "      <td>6.284634</td>\n",
       "      <td>68.574901</td>\n",
       "      <td>3.795043</td>\n",
       "      <td>9.549407</td>\n",
       "      <td>408.237154</td>\n",
       "      <td>18.455534</td>\n",
       "      <td>356.674032</td>\n",
       "      <td>12.653063</td>\n",
       "    </tr>\n",
       "    <tr>\n",
       "      <td>std</td>\n",
       "      <td>8.601545</td>\n",
       "      <td>23.322453</td>\n",
       "      <td>6.860353</td>\n",
       "      <td>0.253994</td>\n",
       "      <td>0.115878</td>\n",
       "      <td>0.702617</td>\n",
       "      <td>28.148861</td>\n",
       "      <td>2.105710</td>\n",
       "      <td>8.707259</td>\n",
       "      <td>168.537116</td>\n",
       "      <td>2.164946</td>\n",
       "      <td>91.294864</td>\n",
       "      <td>7.141062</td>\n",
       "    </tr>\n",
       "    <tr>\n",
       "      <td>min</td>\n",
       "      <td>0.006320</td>\n",
       "      <td>0.000000</td>\n",
       "      <td>0.460000</td>\n",
       "      <td>0.000000</td>\n",
       "      <td>0.385000</td>\n",
       "      <td>3.561000</td>\n",
       "      <td>2.900000</td>\n",
       "      <td>1.129600</td>\n",
       "      <td>1.000000</td>\n",
       "      <td>187.000000</td>\n",
       "      <td>12.600000</td>\n",
       "      <td>0.320000</td>\n",
       "      <td>1.730000</td>\n",
       "    </tr>\n",
       "    <tr>\n",
       "      <td>25%</td>\n",
       "      <td>0.082045</td>\n",
       "      <td>0.000000</td>\n",
       "      <td>5.190000</td>\n",
       "      <td>0.000000</td>\n",
       "      <td>0.449000</td>\n",
       "      <td>5.885500</td>\n",
       "      <td>45.025000</td>\n",
       "      <td>2.100175</td>\n",
       "      <td>4.000000</td>\n",
       "      <td>279.000000</td>\n",
       "      <td>17.400000</td>\n",
       "      <td>375.377500</td>\n",
       "      <td>6.950000</td>\n",
       "    </tr>\n",
       "    <tr>\n",
       "      <td>50%</td>\n",
       "      <td>0.256510</td>\n",
       "      <td>0.000000</td>\n",
       "      <td>9.690000</td>\n",
       "      <td>0.000000</td>\n",
       "      <td>0.538000</td>\n",
       "      <td>6.208500</td>\n",
       "      <td>77.500000</td>\n",
       "      <td>3.207450</td>\n",
       "      <td>5.000000</td>\n",
       "      <td>330.000000</td>\n",
       "      <td>19.050000</td>\n",
       "      <td>391.440000</td>\n",
       "      <td>11.360000</td>\n",
       "    </tr>\n",
       "    <tr>\n",
       "      <td>75%</td>\n",
       "      <td>3.677083</td>\n",
       "      <td>12.500000</td>\n",
       "      <td>18.100000</td>\n",
       "      <td>0.000000</td>\n",
       "      <td>0.624000</td>\n",
       "      <td>6.623500</td>\n",
       "      <td>94.075000</td>\n",
       "      <td>5.188425</td>\n",
       "      <td>24.000000</td>\n",
       "      <td>666.000000</td>\n",
       "      <td>20.200000</td>\n",
       "      <td>396.225000</td>\n",
       "      <td>16.955000</td>\n",
       "    </tr>\n",
       "    <tr>\n",
       "      <td>max</td>\n",
       "      <td>88.976200</td>\n",
       "      <td>100.000000</td>\n",
       "      <td>27.740000</td>\n",
       "      <td>1.000000</td>\n",
       "      <td>0.871000</td>\n",
       "      <td>8.780000</td>\n",
       "      <td>100.000000</td>\n",
       "      <td>12.126500</td>\n",
       "      <td>24.000000</td>\n",
       "      <td>711.000000</td>\n",
       "      <td>22.000000</td>\n",
       "      <td>396.900000</td>\n",
       "      <td>37.970000</td>\n",
       "    </tr>\n",
       "  </tbody>\n",
       "</table>\n",
       "</div>"
      ],
      "text/plain": [
       "                a           b           c           d           e           f  \\\n",
       "count  506.000000  506.000000  506.000000  506.000000  506.000000  506.000000   \n",
       "mean     3.613524   11.363636   11.136779    0.069170    0.554695    6.284634   \n",
       "std      8.601545   23.322453    6.860353    0.253994    0.115878    0.702617   \n",
       "min      0.006320    0.000000    0.460000    0.000000    0.385000    3.561000   \n",
       "25%      0.082045    0.000000    5.190000    0.000000    0.449000    5.885500   \n",
       "50%      0.256510    0.000000    9.690000    0.000000    0.538000    6.208500   \n",
       "75%      3.677083   12.500000   18.100000    0.000000    0.624000    6.623500   \n",
       "max     88.976200  100.000000   27.740000    1.000000    0.871000    8.780000   \n",
       "\n",
       "                g           h           i           j           k           l  \\\n",
       "count  506.000000  506.000000  506.000000  506.000000  506.000000  506.000000   \n",
       "mean    68.574901    3.795043    9.549407  408.237154   18.455534  356.674032   \n",
       "std     28.148861    2.105710    8.707259  168.537116    2.164946   91.294864   \n",
       "min      2.900000    1.129600    1.000000  187.000000   12.600000    0.320000   \n",
       "25%     45.025000    2.100175    4.000000  279.000000   17.400000  375.377500   \n",
       "50%     77.500000    3.207450    5.000000  330.000000   19.050000  391.440000   \n",
       "75%     94.075000    5.188425   24.000000  666.000000   20.200000  396.225000   \n",
       "max    100.000000   12.126500   24.000000  711.000000   22.000000  396.900000   \n",
       "\n",
       "                m  \n",
       "count  506.000000  \n",
       "mean    12.653063  \n",
       "std      7.141062  \n",
       "min      1.730000  \n",
       "25%      6.950000  \n",
       "50%     11.360000  \n",
       "75%     16.955000  \n",
       "max     37.970000  "
      ]
     },
     "execution_count": 125,
     "metadata": {},
     "output_type": "execute_result"
    }
   ],
   "source": [
    "DF.describe()"
   ]
  },
  {
   "cell_type": "code",
   "execution_count": 126,
   "metadata": {},
   "outputs": [
    {
     "data": {
      "text/html": [
       "<div>\n",
       "<style scoped>\n",
       "    .dataframe tbody tr th:only-of-type {\n",
       "        vertical-align: middle;\n",
       "    }\n",
       "\n",
       "    .dataframe tbody tr th {\n",
       "        vertical-align: top;\n",
       "    }\n",
       "\n",
       "    .dataframe thead th {\n",
       "        text-align: right;\n",
       "    }\n",
       "</style>\n",
       "<table border=\"1\" class=\"dataframe\">\n",
       "  <thead>\n",
       "    <tr style=\"text-align: right;\">\n",
       "      <th></th>\n",
       "      <th>a</th>\n",
       "      <th>b</th>\n",
       "      <th>c</th>\n",
       "      <th>d</th>\n",
       "      <th>e</th>\n",
       "      <th>f</th>\n",
       "      <th>g</th>\n",
       "      <th>h</th>\n",
       "      <th>i</th>\n",
       "      <th>j</th>\n",
       "      <th>k</th>\n",
       "      <th>l</th>\n",
       "      <th>m</th>\n",
       "    </tr>\n",
       "  </thead>\n",
       "  <tbody>\n",
       "    <tr>\n",
       "      <td>a</td>\n",
       "      <td>1.000000</td>\n",
       "      <td>-0.200469</td>\n",
       "      <td>0.406583</td>\n",
       "      <td>-0.055892</td>\n",
       "      <td>0.420972</td>\n",
       "      <td>-0.219247</td>\n",
       "      <td>0.352734</td>\n",
       "      <td>-0.379670</td>\n",
       "      <td>0.625505</td>\n",
       "      <td>0.582764</td>\n",
       "      <td>0.289946</td>\n",
       "      <td>-0.385064</td>\n",
       "      <td>0.455621</td>\n",
       "    </tr>\n",
       "    <tr>\n",
       "      <td>b</td>\n",
       "      <td>-0.200469</td>\n",
       "      <td>1.000000</td>\n",
       "      <td>-0.533828</td>\n",
       "      <td>-0.042697</td>\n",
       "      <td>-0.516604</td>\n",
       "      <td>0.311991</td>\n",
       "      <td>-0.569537</td>\n",
       "      <td>0.664408</td>\n",
       "      <td>-0.311948</td>\n",
       "      <td>-0.314563</td>\n",
       "      <td>-0.391679</td>\n",
       "      <td>0.175520</td>\n",
       "      <td>-0.412995</td>\n",
       "    </tr>\n",
       "    <tr>\n",
       "      <td>c</td>\n",
       "      <td>0.406583</td>\n",
       "      <td>-0.533828</td>\n",
       "      <td>1.000000</td>\n",
       "      <td>0.062938</td>\n",
       "      <td>0.763651</td>\n",
       "      <td>-0.391676</td>\n",
       "      <td>0.644779</td>\n",
       "      <td>-0.708027</td>\n",
       "      <td>0.595129</td>\n",
       "      <td>0.720760</td>\n",
       "      <td>0.383248</td>\n",
       "      <td>-0.356977</td>\n",
       "      <td>0.603800</td>\n",
       "    </tr>\n",
       "    <tr>\n",
       "      <td>d</td>\n",
       "      <td>-0.055892</td>\n",
       "      <td>-0.042697</td>\n",
       "      <td>0.062938</td>\n",
       "      <td>1.000000</td>\n",
       "      <td>0.091203</td>\n",
       "      <td>0.091251</td>\n",
       "      <td>0.086518</td>\n",
       "      <td>-0.099176</td>\n",
       "      <td>-0.007368</td>\n",
       "      <td>-0.035587</td>\n",
       "      <td>-0.121515</td>\n",
       "      <td>0.048788</td>\n",
       "      <td>-0.053929</td>\n",
       "    </tr>\n",
       "    <tr>\n",
       "      <td>e</td>\n",
       "      <td>0.420972</td>\n",
       "      <td>-0.516604</td>\n",
       "      <td>0.763651</td>\n",
       "      <td>0.091203</td>\n",
       "      <td>1.000000</td>\n",
       "      <td>-0.302188</td>\n",
       "      <td>0.731470</td>\n",
       "      <td>-0.769230</td>\n",
       "      <td>0.611441</td>\n",
       "      <td>0.668023</td>\n",
       "      <td>0.188933</td>\n",
       "      <td>-0.380051</td>\n",
       "      <td>0.590879</td>\n",
       "    </tr>\n",
       "    <tr>\n",
       "      <td>f</td>\n",
       "      <td>-0.219247</td>\n",
       "      <td>0.311991</td>\n",
       "      <td>-0.391676</td>\n",
       "      <td>0.091251</td>\n",
       "      <td>-0.302188</td>\n",
       "      <td>1.000000</td>\n",
       "      <td>-0.240265</td>\n",
       "      <td>0.205246</td>\n",
       "      <td>-0.209847</td>\n",
       "      <td>-0.292048</td>\n",
       "      <td>-0.355501</td>\n",
       "      <td>0.128069</td>\n",
       "      <td>-0.613808</td>\n",
       "    </tr>\n",
       "    <tr>\n",
       "      <td>g</td>\n",
       "      <td>0.352734</td>\n",
       "      <td>-0.569537</td>\n",
       "      <td>0.644779</td>\n",
       "      <td>0.086518</td>\n",
       "      <td>0.731470</td>\n",
       "      <td>-0.240265</td>\n",
       "      <td>1.000000</td>\n",
       "      <td>-0.747881</td>\n",
       "      <td>0.456022</td>\n",
       "      <td>0.506456</td>\n",
       "      <td>0.261515</td>\n",
       "      <td>-0.273534</td>\n",
       "      <td>0.602339</td>\n",
       "    </tr>\n",
       "    <tr>\n",
       "      <td>h</td>\n",
       "      <td>-0.379670</td>\n",
       "      <td>0.664408</td>\n",
       "      <td>-0.708027</td>\n",
       "      <td>-0.099176</td>\n",
       "      <td>-0.769230</td>\n",
       "      <td>0.205246</td>\n",
       "      <td>-0.747881</td>\n",
       "      <td>1.000000</td>\n",
       "      <td>-0.494588</td>\n",
       "      <td>-0.534432</td>\n",
       "      <td>-0.232471</td>\n",
       "      <td>0.291512</td>\n",
       "      <td>-0.496996</td>\n",
       "    </tr>\n",
       "    <tr>\n",
       "      <td>i</td>\n",
       "      <td>0.625505</td>\n",
       "      <td>-0.311948</td>\n",
       "      <td>0.595129</td>\n",
       "      <td>-0.007368</td>\n",
       "      <td>0.611441</td>\n",
       "      <td>-0.209847</td>\n",
       "      <td>0.456022</td>\n",
       "      <td>-0.494588</td>\n",
       "      <td>1.000000</td>\n",
       "      <td>0.910228</td>\n",
       "      <td>0.464741</td>\n",
       "      <td>-0.444413</td>\n",
       "      <td>0.488676</td>\n",
       "    </tr>\n",
       "    <tr>\n",
       "      <td>j</td>\n",
       "      <td>0.582764</td>\n",
       "      <td>-0.314563</td>\n",
       "      <td>0.720760</td>\n",
       "      <td>-0.035587</td>\n",
       "      <td>0.668023</td>\n",
       "      <td>-0.292048</td>\n",
       "      <td>0.506456</td>\n",
       "      <td>-0.534432</td>\n",
       "      <td>0.910228</td>\n",
       "      <td>1.000000</td>\n",
       "      <td>0.460853</td>\n",
       "      <td>-0.441808</td>\n",
       "      <td>0.543993</td>\n",
       "    </tr>\n",
       "    <tr>\n",
       "      <td>k</td>\n",
       "      <td>0.289946</td>\n",
       "      <td>-0.391679</td>\n",
       "      <td>0.383248</td>\n",
       "      <td>-0.121515</td>\n",
       "      <td>0.188933</td>\n",
       "      <td>-0.355501</td>\n",
       "      <td>0.261515</td>\n",
       "      <td>-0.232471</td>\n",
       "      <td>0.464741</td>\n",
       "      <td>0.460853</td>\n",
       "      <td>1.000000</td>\n",
       "      <td>-0.177383</td>\n",
       "      <td>0.374044</td>\n",
       "    </tr>\n",
       "    <tr>\n",
       "      <td>l</td>\n",
       "      <td>-0.385064</td>\n",
       "      <td>0.175520</td>\n",
       "      <td>-0.356977</td>\n",
       "      <td>0.048788</td>\n",
       "      <td>-0.380051</td>\n",
       "      <td>0.128069</td>\n",
       "      <td>-0.273534</td>\n",
       "      <td>0.291512</td>\n",
       "      <td>-0.444413</td>\n",
       "      <td>-0.441808</td>\n",
       "      <td>-0.177383</td>\n",
       "      <td>1.000000</td>\n",
       "      <td>-0.366087</td>\n",
       "    </tr>\n",
       "    <tr>\n",
       "      <td>m</td>\n",
       "      <td>0.455621</td>\n",
       "      <td>-0.412995</td>\n",
       "      <td>0.603800</td>\n",
       "      <td>-0.053929</td>\n",
       "      <td>0.590879</td>\n",
       "      <td>-0.613808</td>\n",
       "      <td>0.602339</td>\n",
       "      <td>-0.496996</td>\n",
       "      <td>0.488676</td>\n",
       "      <td>0.543993</td>\n",
       "      <td>0.374044</td>\n",
       "      <td>-0.366087</td>\n",
       "      <td>1.000000</td>\n",
       "    </tr>\n",
       "  </tbody>\n",
       "</table>\n",
       "</div>"
      ],
      "text/plain": [
       "          a         b         c         d         e         f         g  \\\n",
       "a  1.000000 -0.200469  0.406583 -0.055892  0.420972 -0.219247  0.352734   \n",
       "b -0.200469  1.000000 -0.533828 -0.042697 -0.516604  0.311991 -0.569537   \n",
       "c  0.406583 -0.533828  1.000000  0.062938  0.763651 -0.391676  0.644779   \n",
       "d -0.055892 -0.042697  0.062938  1.000000  0.091203  0.091251  0.086518   \n",
       "e  0.420972 -0.516604  0.763651  0.091203  1.000000 -0.302188  0.731470   \n",
       "f -0.219247  0.311991 -0.391676  0.091251 -0.302188  1.000000 -0.240265   \n",
       "g  0.352734 -0.569537  0.644779  0.086518  0.731470 -0.240265  1.000000   \n",
       "h -0.379670  0.664408 -0.708027 -0.099176 -0.769230  0.205246 -0.747881   \n",
       "i  0.625505 -0.311948  0.595129 -0.007368  0.611441 -0.209847  0.456022   \n",
       "j  0.582764 -0.314563  0.720760 -0.035587  0.668023 -0.292048  0.506456   \n",
       "k  0.289946 -0.391679  0.383248 -0.121515  0.188933 -0.355501  0.261515   \n",
       "l -0.385064  0.175520 -0.356977  0.048788 -0.380051  0.128069 -0.273534   \n",
       "m  0.455621 -0.412995  0.603800 -0.053929  0.590879 -0.613808  0.602339   \n",
       "\n",
       "          h         i         j         k         l         m  \n",
       "a -0.379670  0.625505  0.582764  0.289946 -0.385064  0.455621  \n",
       "b  0.664408 -0.311948 -0.314563 -0.391679  0.175520 -0.412995  \n",
       "c -0.708027  0.595129  0.720760  0.383248 -0.356977  0.603800  \n",
       "d -0.099176 -0.007368 -0.035587 -0.121515  0.048788 -0.053929  \n",
       "e -0.769230  0.611441  0.668023  0.188933 -0.380051  0.590879  \n",
       "f  0.205246 -0.209847 -0.292048 -0.355501  0.128069 -0.613808  \n",
       "g -0.747881  0.456022  0.506456  0.261515 -0.273534  0.602339  \n",
       "h  1.000000 -0.494588 -0.534432 -0.232471  0.291512 -0.496996  \n",
       "i -0.494588  1.000000  0.910228  0.464741 -0.444413  0.488676  \n",
       "j -0.534432  0.910228  1.000000  0.460853 -0.441808  0.543993  \n",
       "k -0.232471  0.464741  0.460853  1.000000 -0.177383  0.374044  \n",
       "l  0.291512 -0.444413 -0.441808 -0.177383  1.000000 -0.366087  \n",
       "m -0.496996  0.488676  0.543993  0.374044 -0.366087  1.000000  "
      ]
     },
     "execution_count": 126,
     "metadata": {},
     "output_type": "execute_result"
    }
   ],
   "source": [
    "DF.corr()"
   ]
  },
  {
   "cell_type": "code",
   "execution_count": 127,
   "metadata": {},
   "outputs": [
    {
     "data": {
      "image/png": "[encoded data removed]",
      "text/plain": [
       "<Figure size 1152x288 with 2 Axes>"
      ]
     },
     "metadata": {
      "needs_background": "light"
     },
     "output_type": "display_data"
    }
   ],
   "source": [
    "ml.figure(figsize=(16,4))\n",
    "sb.heatmap(DF.corr(),cmap=\"rainbow\",annot=True,linecolor=\"g\",linewidths=0.9)\n",
    "ml.show()"
   ]
  },
  {
   "cell_type": "code",
   "execution_count": 129,
   "metadata": {},
   "outputs": [
    {
     "data": {
      "text/html": [
       "<div>\n",
       "<style scoped>\n",
       "    .dataframe tbody tr th:only-of-type {\n",
       "        vertical-align: middle;\n",
       "    }\n",
       "\n",
       "    .dataframe tbody tr th {\n",
       "        vertical-align: top;\n",
       "    }\n",
       "\n",
       "    .dataframe thead th {\n",
       "        text-align: right;\n",
       "    }\n",
       "</style>\n",
       "<table border=\"1\" class=\"dataframe\">\n",
       "  <thead>\n",
       "    <tr style=\"text-align: right;\">\n",
       "      <th></th>\n",
       "      <th>a</th>\n",
       "      <th>b</th>\n",
       "      <th>c</th>\n",
       "      <th>d</th>\n",
       "      <th>e</th>\n",
       "      <th>f</th>\n",
       "      <th>g</th>\n",
       "      <th>h</th>\n",
       "      <th>i</th>\n",
       "      <th>k</th>\n",
       "      <th>l</th>\n",
       "      <th>m</th>\n",
       "    </tr>\n",
       "  </thead>\n",
       "  <tbody>\n",
       "    <tr>\n",
       "      <td>0</td>\n",
       "      <td>0.00632</td>\n",
       "      <td>18.0</td>\n",
       "      <td>2.31</td>\n",
       "      <td>0.0</td>\n",
       "      <td>0.538</td>\n",
       "      <td>6.575</td>\n",
       "      <td>65.2</td>\n",
       "      <td>4.0900</td>\n",
       "      <td>1.0</td>\n",
       "      <td>15.3</td>\n",
       "      <td>396.90</td>\n",
       "      <td>4.98</td>\n",
       "    </tr>\n",
       "    <tr>\n",
       "      <td>1</td>\n",
       "      <td>0.02731</td>\n",
       "      <td>0.0</td>\n",
       "      <td>7.07</td>\n",
       "      <td>0.0</td>\n",
       "      <td>0.469</td>\n",
       "      <td>6.421</td>\n",
       "      <td>78.9</td>\n",
       "      <td>4.9671</td>\n",
       "      <td>2.0</td>\n",
       "      <td>17.8</td>\n",
       "      <td>396.90</td>\n",
       "      <td>9.14</td>\n",
       "    </tr>\n",
       "    <tr>\n",
       "      <td>2</td>\n",
       "      <td>0.02729</td>\n",
       "      <td>0.0</td>\n",
       "      <td>7.07</td>\n",
       "      <td>0.0</td>\n",
       "      <td>0.469</td>\n",
       "      <td>7.185</td>\n",
       "      <td>61.1</td>\n",
       "      <td>4.9671</td>\n",
       "      <td>2.0</td>\n",
       "      <td>17.8</td>\n",
       "      <td>392.83</td>\n",
       "      <td>4.03</td>\n",
       "    </tr>\n",
       "    <tr>\n",
       "      <td>3</td>\n",
       "      <td>0.03237</td>\n",
       "      <td>0.0</td>\n",
       "      <td>2.18</td>\n",
       "      <td>0.0</td>\n",
       "      <td>0.458</td>\n",
       "      <td>6.998</td>\n",
       "      <td>45.8</td>\n",
       "      <td>6.0622</td>\n",
       "      <td>3.0</td>\n",
       "      <td>18.7</td>\n",
       "      <td>394.63</td>\n",
       "      <td>2.94</td>\n",
       "    </tr>\n",
       "    <tr>\n",
       "      <td>4</td>\n",
       "      <td>0.06905</td>\n",
       "      <td>0.0</td>\n",
       "      <td>2.18</td>\n",
       "      <td>0.0</td>\n",
       "      <td>0.458</td>\n",
       "      <td>7.147</td>\n",
       "      <td>54.2</td>\n",
       "      <td>6.0622</td>\n",
       "      <td>3.0</td>\n",
       "      <td>18.7</td>\n",
       "      <td>396.90</td>\n",
       "      <td>5.33</td>\n",
       "    </tr>\n",
       "    <tr>\n",
       "      <td>...</td>\n",
       "      <td>...</td>\n",
       "      <td>...</td>\n",
       "      <td>...</td>\n",
       "      <td>...</td>\n",
       "      <td>...</td>\n",
       "      <td>...</td>\n",
       "      <td>...</td>\n",
       "      <td>...</td>\n",
       "      <td>...</td>\n",
       "      <td>...</td>\n",
       "      <td>...</td>\n",
       "      <td>...</td>\n",
       "    </tr>\n",
       "    <tr>\n",
       "      <td>501</td>\n",
       "      <td>0.06263</td>\n",
       "      <td>0.0</td>\n",
       "      <td>11.93</td>\n",
       "      <td>0.0</td>\n",
       "      <td>0.573</td>\n",
       "      <td>6.593</td>\n",
       "      <td>69.1</td>\n",
       "      <td>2.4786</td>\n",
       "      <td>1.0</td>\n",
       "      <td>21.0</td>\n",
       "      <td>391.99</td>\n",
       "      <td>9.67</td>\n",
       "    </tr>\n",
       "    <tr>\n",
       "      <td>502</td>\n",
       "      <td>0.04527</td>\n",
       "      <td>0.0</td>\n",
       "      <td>11.93</td>\n",
       "      <td>0.0</td>\n",
       "      <td>0.573</td>\n",
       "      <td>6.120</td>\n",
       "      <td>76.7</td>\n",
       "      <td>2.2875</td>\n",
       "      <td>1.0</td>\n",
       "      <td>21.0</td>\n",
       "      <td>396.90</td>\n",
       "      <td>9.08</td>\n",
       "    </tr>\n",
       "    <tr>\n",
       "      <td>503</td>\n",
       "      <td>0.06076</td>\n",
       "      <td>0.0</td>\n",
       "      <td>11.93</td>\n",
       "      <td>0.0</td>\n",
       "      <td>0.573</td>\n",
       "      <td>6.976</td>\n",
       "      <td>91.0</td>\n",
       "      <td>2.1675</td>\n",
       "      <td>1.0</td>\n",
       "      <td>21.0</td>\n",
       "      <td>396.90</td>\n",
       "      <td>5.64</td>\n",
       "    </tr>\n",
       "    <tr>\n",
       "      <td>504</td>\n",
       "      <td>0.10959</td>\n",
       "      <td>0.0</td>\n",
       "      <td>11.93</td>\n",
       "      <td>0.0</td>\n",
       "      <td>0.573</td>\n",
       "      <td>6.794</td>\n",
       "      <td>89.3</td>\n",
       "      <td>2.3889</td>\n",
       "      <td>1.0</td>\n",
       "      <td>21.0</td>\n",
       "      <td>393.45</td>\n",
       "      <td>6.48</td>\n",
       "    </tr>\n",
       "    <tr>\n",
       "      <td>505</td>\n",
       "      <td>0.04741</td>\n",
       "      <td>0.0</td>\n",
       "      <td>11.93</td>\n",
       "      <td>0.0</td>\n",
       "      <td>0.573</td>\n",
       "      <td>6.030</td>\n",
       "      <td>80.8</td>\n",
       "      <td>2.5050</td>\n",
       "      <td>1.0</td>\n",
       "      <td>21.0</td>\n",
       "      <td>396.90</td>\n",
       "      <td>7.88</td>\n",
       "    </tr>\n",
       "  </tbody>\n",
       "</table>\n",
       "<p>506 rows × 12 columns</p>\n",
       "</div>"
      ],
      "text/plain": [
       "           a     b      c    d      e      f     g       h    i     k       l  \\\n",
       "0    0.00632  18.0   2.31  0.0  0.538  6.575  65.2  4.0900  1.0  15.3  396.90   \n",
       "1    0.02731   0.0   7.07  0.0  0.469  6.421  78.9  4.9671  2.0  17.8  396.90   \n",
       "2    0.02729   0.0   7.07  0.0  0.469  7.185  61.1  4.9671  2.0  17.8  392.83   \n",
       "3    0.03237   0.0   2.18  0.0  0.458  6.998  45.8  6.0622  3.0  18.7  394.63   \n",
       "4    0.06905   0.0   2.18  0.0  0.458  7.147  54.2  6.0622  3.0  18.7  396.90   \n",
       "..       ...   ...    ...  ...    ...    ...   ...     ...  ...   ...     ...   \n",
       "501  0.06263   0.0  11.93  0.0  0.573  6.593  69.1  2.4786  1.0  21.0  391.99   \n",
       "502  0.04527   0.0  11.93  0.0  0.573  6.120  76.7  2.2875  1.0  21.0  396.90   \n",
       "503  0.06076   0.0  11.93  0.0  0.573  6.976  91.0  2.1675  1.0  21.0  396.90   \n",
       "504  0.10959   0.0  11.93  0.0  0.573  6.794  89.3  2.3889  1.0  21.0  393.45   \n",
       "505  0.04741   0.0  11.93  0.0  0.573  6.030  80.8  2.5050  1.0  21.0  396.90   \n",
       "\n",
       "        m  \n",
       "0    4.98  \n",
       "1    9.14  \n",
       "2    4.03  \n",
       "3    2.94  \n",
       "4    5.33  \n",
       "..    ...  \n",
       "501  9.67  \n",
       "502  9.08  \n",
       "503  5.64  \n",
       "504  6.48  \n",
       "505  7.88  \n",
       "\n",
       "[506 rows x 12 columns]"
      ]
     },
     "execution_count": 129,
     "metadata": {},
     "output_type": "execute_result"
    }
   ],
   "source": [
    "DF.drop(columns=['j'])"
   ]
  },
  {
   "cell_type": "code",
   "execution_count": 302,
   "metadata": {},
   "outputs": [
    {
     "data": {
      "text/plain": [
       "(506, 1)"
      ]
     },
     "execution_count": 302,
     "metadata": {},
     "output_type": "execute_result"
    }
   ],
   "source": [
    "a=ny.array(DF[\"a\"])[:,ny.newaxis]\n",
    "a.shape"
   ]
  },
  {
   "cell_type": "code",
   "execution_count": 148,
   "metadata": {
    "scrolled": false
   },
   "outputs": [
    {
     "data": {
      "text/plain": [
       "LinearRegression(copy_X=True, fit_intercept=True, n_jobs=None, normalize=False)"
      ]
     },
     "execution_count": 148,
     "metadata": {},
     "output_type": "execute_result"
    }
   ],
   "source": [
    "MM=LinearRegression()\n",
    "MM.fit(a,DF[\"e\"])"
   ]
  },
  {
   "cell_type": "code",
   "execution_count": 149,
   "metadata": {},
   "outputs": [
    {
     "data": {
      "text/plain": [
       "array([0.53423783, 0.53435687, 0.53435675, 0.53438556, 0.53459358,\n",
       "       0.53437127, 0.5347027 , 0.53502176, 0.53539997, 0.53516632,\n",
       "       0.53547739, 0.53486818, 0.53473383, 0.53777349, 0.53781999,\n",
       "       0.53776005, 0.54017905, 0.53864935, 0.53875433, 0.53831815,\n",
       "       0.54130116, 0.53903409, 0.54119159, 0.53980759, 0.53845687,\n",
       "       0.53896887, 0.53801253, 0.53962236, 0.53858578, 0.5398871 ,\n",
       "       0.54061505, 0.5418849 , 0.54207358, 0.54073364, 0.54334864,\n",
       "       0.53456591, 0.53475459, 0.53465648, 0.53519473, 0.53435868,\n",
       "       0.53439248, 0.53492473, 0.53500446, 0.53510575, 0.53489779,\n",
       "       0.53517415, 0.53527022, 0.53550223, 0.53564174, 0.53544835,\n",
       "       0.53470519, 0.53444795, 0.53450596, 0.53448447, 0.53427911,\n",
       "       0.53427633, 0.53431853, 0.5342832 , 0.5350779 , 0.53478771,\n",
       "       0.53504881, 0.53517579, 0.53482735, 0.53491939, 0.53431263,\n",
       "       0.53440524, 0.53445033, 0.53453029, 0.53497066, 0.53492881,\n",
       "       0.53470253, 0.53510235, 0.5347217 , 0.53531008, 0.53464978,\n",
       "       0.53474143, 0.53477778, 0.53469578, 0.53452218, 0.53467763,\n",
       "       0.53443524, 0.53445503, 0.5344095 , 0.53440337, 0.53448889,\n",
       "       0.53452723, 0.53449621, 0.53460753, 0.53452298, 0.53450267,\n",
       "       0.53446763, 0.53442498, 0.53444035, 0.53436503, 0.53444551,\n",
       "       0.5348941 , 0.5348544 , 0.53488724, 0.53466629, 0.53459103,\n",
       "       0.53504507, 0.53485032, 0.53549933, 0.53540207, 0.53499369,\n",
       "       0.5349541 , 0.5351729 , 0.53494588, 0.53492801, 0.53569709,\n",
       "       0.53481408, 0.53477387, 0.53490119, 0.53546168, 0.53500906,\n",
       "       0.53517369, 0.5349482 , 0.53505823, 0.53494253, 0.53502295,\n",
       "       0.53459324, 0.53460833, 0.53472935, 0.53505482, 0.53476054,\n",
       "       0.53516053, 0.53639873, 0.53567168, 0.53604757, 0.53919974,\n",
       "       0.53613054, 0.54096741, 0.53754829, 0.53607247, 0.53973806,\n",
       "       0.53736528, 0.53603175, 0.53620012, 0.53561866, 0.53729008,\n",
       "       0.53585174, 0.54343836, 0.55303638, 0.55743923, 0.54996649,\n",
       "       0.54769574, 0.54642374, 0.54763494, 0.54742153, 0.54970692,\n",
       "       0.54359692, 0.54268794, 0.54059106, 0.54639045, 0.54222023,\n",
       "       0.55424979, 0.54807764, 0.54114117, 0.54181752, 0.54228358,\n",
       "       0.54142405, 0.54250102, 0.54460169, 0.54281668, 0.54691889,\n",
       "       0.55078462, 0.54560221, 0.54441176, 0.54724805, 0.5480938 ,\n",
       "       0.54104953, 0.54732461, 0.53499108, 0.53472249, 0.53468103,\n",
       "       0.53457992, 0.53460022, 0.53450965, 0.53457867, 0.53452978,\n",
       "       0.53457561, 0.53459262, 0.53471824, 0.53476956, 0.53467315,\n",
       "       0.53454492, 0.53451969, 0.53464859, 0.53491537, 0.53467667,\n",
       "       0.53471625, 0.53459392, 0.53469334, 0.53432601, 0.53428359,\n",
       "       0.5342803 , 0.53442946, 0.5344666 , 0.53441568, 0.53438063,\n",
       "       0.53430282, 0.53439736, 0.53432545, 0.53440105, 0.53431592,\n",
       "       0.53497565, 0.53550461, 0.53563108, 0.53497253, 0.53667299,\n",
       "       0.53519139, 0.53633312, 0.53543372, 0.5349989 , 0.53584409,\n",
       "       0.535325  , 0.53446059, 0.53459971, 0.53482973, 0.53484992,\n",
       "       0.53623279, 0.5365142 , 0.53773833, 0.53768808, 0.53599029,\n",
       "       0.53719032, 0.53636918, 0.53654068, 0.53589309, 0.53670742,\n",
       "       0.53724743, 0.53682753, 0.53746458, 0.53608182, 0.53674218,\n",
       "       0.53607604, 0.53715431, 0.53710468, 0.53466952, 0.53472669,\n",
       "       0.53484448, 0.53480381, 0.53478555, 0.53492546, 0.53537071,\n",
       "       0.53528706, 0.53612923, 0.53531678, 0.53513428, 0.53528366,\n",
       "       0.53499766, 0.53541614, 0.53466822, 0.53629432, 0.53447528,\n",
       "       0.5344032 , 0.53428921, 0.53767016, 0.53796489, 0.53792599,\n",
       "       0.53726507, 0.5372311 , 0.53715181, 0.53888221, 0.53732155,\n",
       "       0.5385213 , 0.53865786, 0.53748188, 0.53726728, 0.53471608,\n",
       "       0.53589859, 0.53512135, 0.53485191, 0.53546031, 0.53452207,\n",
       "       0.53474665, 0.5347957 , 0.53454946, 0.53465443, 0.5353951 ,\n",
       "       0.5344049 , 0.5344121 , 0.53454957, 0.53428711, 0.53425337,\n",
       "       0.53426414, 0.53431342, 0.53442152, 0.53446229, 0.53444568,\n",
       "       0.53440059, 0.53464922, 0.534407  , 0.53467071, 0.53466697,\n",
       "       0.53493539, 0.53450664, 0.5350018 , 0.53456869, 0.53451736,\n",
       "       0.53445248, 0.53440258, 0.53472748, 0.53476911, 0.53451475,\n",
       "       0.53451271, 0.5346275 , 0.53448169, 0.53699778, 0.53618351,\n",
       "       0.54914836, 0.53868457, 0.53568609, 0.5357297 , 0.5362958 ,\n",
       "       0.53563998, 0.53600696, 0.53559268, 0.53648193, 0.53689848,\n",
       "       0.53515248, 0.53523182, 0.53619338, 0.53581216, 0.53613638,\n",
       "       0.53529006, 0.53592303, 0.53556892, 0.53457725, 0.53458332,\n",
       "       0.53445969, 0.53448685, 0.53439855, 0.53449025, 0.53441398,\n",
       "       0.53442662, 0.53439634, 0.53437445, 0.53438948, 0.53451373,\n",
       "       0.53455082, 0.53427577, 0.53434365, 0.5343462 , 0.5343749 ,\n",
       "       0.53437853, 0.53455145, 0.53430804, 0.53428711, 0.53436639,\n",
       "       0.53455422, 0.53465285, 0.53461281, 0.53429891, 0.5344459 ,\n",
       "       0.53480648, 0.5851463 , 0.55603447, 0.56370235, 0.5583688 ,\n",
       "       0.5599602 , 0.55596154, 0.55506197, 0.55814807, 0.55390538,\n",
       "       0.56003931, 0.55516819, 0.61088931, 0.56198085, 0.56635767,\n",
       "       0.57128471, 0.58656036, 0.58108735, 0.59719842, 0.63910928,\n",
       "       0.64540943, 0.62090354, 0.58991312, 0.66831604, 0.63552791,\n",
       "       1.03880527, 0.62422914, 0.58630356, 0.57952907, 0.6481078 ,\n",
       "       0.62954534, 0.6725445 , 0.66235503, 0.6154915 , 0.58043227,\n",
       "       0.57368584, 0.56422002, 0.59986276, 0.58322829, 0.6099683 ,\n",
       "       0.58363656, 0.56750365, 0.57771167, 0.75170334, 0.59044089,\n",
       "       0.67624384, 0.61493856, 0.58862133, 0.67485779, 0.76972306,\n",
       "       0.91939554, 0.65168804, 0.60197926, 0.57619105, 0.61608471,\n",
       "       0.82420417, 0.61388655, 0.64088324, 0.69671523, 0.79363802,\n",
       "       0.63676366, 0.59564508, 0.68131674, 0.95122978, 0.60119209,\n",
       "       0.59708103, 0.57402861, 0.60252993, 0.57418644, 0.584064  ,\n",
       "       0.62414918, 0.60365851, 0.74779077, 0.57598246, 0.58716485,\n",
       "       0.58236269, 0.59126747, 0.57074759, 0.56585344, 0.61310789,\n",
       "       0.59749503, 0.61598546, 0.62027517, 0.61177345, 0.58745828,\n",
       "       0.65925854, 0.58934991, 0.5663372 , 0.59072439, 0.6068066 ,\n",
       "       0.59472407, 0.56986299, 0.59048796, 0.58710927, 0.57688362,\n",
       "       0.57229963, 0.56505987, 0.56306944, 0.58097869, 0.58815584,\n",
       "       0.5611537 , 0.56067993, 0.58070925, 0.57816656, 0.57277289,\n",
       "       0.56149262, 0.55514641, 0.57194348, 0.56721499, 0.57866047,\n",
       "       0.55214345, 0.55561071, 0.55928169, 0.62253515, 0.60835371,\n",
       "       0.55886491, 0.55710468, 0.55444074, 0.5605555 , 0.57988811,\n",
       "       0.57045875, 0.56182881, 0.61940294, 0.59223554, 0.6154915 ,\n",
       "       0.56723121, 0.56657431, 0.56670463, 0.55018563, 0.54769137,\n",
       "       0.55503616, 0.56648113, 0.56162612, 0.53505755, 0.53524192,\n",
       "       0.53537854, 0.53480166, 0.53483331, 0.53518486, 0.53578749,\n",
       "       0.53521708, 0.53584437, 0.53572403, 0.53555809, 0.5352105 ,\n",
       "       0.53547449, 0.53455717, 0.53445872, 0.53454657, 0.53482349,\n",
       "       0.53447086])"
      ]
     },
     "execution_count": 149,
     "metadata": {},
     "output_type": "execute_result"
    }
   ],
   "source": [
    "MM.predict(a)"
   ]
  },
  {
   "cell_type": "code",
   "execution_count": 152,
   "metadata": {},
   "outputs": [
    {
     "data": {
      "text/plain": [
       "0.17721718179269352"
      ]
     },
     "execution_count": 152,
     "metadata": {},
     "output_type": "execute_result"
    }
   ],
   "source": [
    "MM.score(a,DF[\"e\"])"
   ]
  },
  {
   "cell_type": "code",
   "execution_count": 157,
   "metadata": {},
   "outputs": [
    {
     "data": {
      "text/plain": [
       "0.08121228573938195"
      ]
     },
     "execution_count": 157,
     "metadata": {},
     "output_type": "execute_result"
    }
   ],
   "source": [
    "mean_absolute_error(DF[\"e\"],MM.predict(a))"
   ]
  },
  {
   "cell_type": "code",
   "execution_count": 158,
   "metadata": {},
   "outputs": [
    {
     "data": {
      "text/plain": [
       "array([0.00567122])"
      ]
     },
     "execution_count": 158,
     "metadata": {},
     "output_type": "execute_result"
    }
   ],
   "source": [
    "MM.coef_"
   ]
  },
  {
   "cell_type": "code",
   "execution_count": 159,
   "metadata": {},
   "outputs": [
    {
     "data": {
      "text/plain": [
       "0.5342019853246204"
      ]
     },
     "execution_count": 159,
     "metadata": {},
     "output_type": "execute_result"
    }
   ],
   "source": [
    "MM.intercept_"
   ]
  },
  {
   "cell_type": "code",
   "execution_count": 167,
   "metadata": {},
   "outputs": [
    {
     "data": {
      "text/plain": [
       "[<matplotlib.lines.Line2D at 0x21290f3d808>]"
      ]
     },
     "execution_count": 167,
     "metadata": {},
     "output_type": "execute_result"
    },
    {
     "data": {
      "image/png": "[encoded data removed]",
      "text/plain": [
       "<Figure size 432x288 with 1 Axes>"
      ]
     },
     "metadata": {
      "needs_background": "light"
     },
     "output_type": "display_data"
    }
   ],
   "source": [
    "ml.scatter(a,DF[\"e\"])\n",
    "ml.plot(MM.predict(a),\"g\")"
   ]
  },
  {
   "cell_type": "code",
   "execution_count": 328,
   "metadata": {},
   "outputs": [],
   "source": [
    "v=DF[\"tar\"]=load_boston().target"
   ]
  },
  {
   "cell_type": "code",
   "execution_count": 272,
   "metadata": {},
   "outputs": [],
   "source": [
    "u=DF[DF.columns.drop(\"tar\")]"
   ]
  },
  {
   "cell_type": "code",
   "execution_count": 273,
   "metadata": {},
   "outputs": [
    {
     "name": "stdout",
     "output_type": "stream",
     "text": [
      "a 504\n",
      "b 26\n",
      "c 76\n",
      "d 2\n",
      "e 81\n",
      "f 446\n",
      "g 356\n",
      "h 412\n",
      "i 9\n",
      "j 66\n",
      "k 46\n",
      "l 357\n",
      "m 455\n",
      "tar 229\n"
     ]
    }
   ],
   "source": [
    "for i in DF.columns:\n",
    "    print(i,DF[i].nunique())"
   ]
  },
  {
   "cell_type": "code",
   "execution_count": 274,
   "metadata": {},
   "outputs": [
    {
     "data": {
      "text/plain": [
       "LinearRegression(copy_X=True, fit_intercept=True, n_jobs=None, normalize=False)"
      ]
     },
     "execution_count": 274,
     "metadata": {},
     "output_type": "execute_result"
    }
   ],
   "source": [
    "MM.fit(u,v)"
   ]
  },
  {
   "cell_type": "code",
   "execution_count": 275,
   "metadata": {},
   "outputs": [
    {
     "data": {
      "text/plain": [
       "0.7406426641094095"
      ]
     },
     "execution_count": 275,
     "metadata": {},
     "output_type": "execute_result"
    }
   ],
   "source": [
    "MM.score(u,v)"
   ]
  },
  {
   "cell_type": "code",
   "execution_count": 284,
   "metadata": {},
   "outputs": [
    {
     "data": {
      "text/plain": [
       "array([30.00384338, 25.02556238, 30.56759672, 28.60703649, 27.94352423,\n",
       "       25.25628446, 23.00180827, 19.53598843, 11.52363685, 18.92026211,\n",
       "       18.99949651, 21.58679568, 20.90652153, 19.55290281, 19.28348205,\n",
       "       19.29748321, 20.52750979, 16.91140135, 16.17801106, 18.40613603,\n",
       "       12.52385753, 17.67103669, 15.83288129, 13.80628535, 15.67833832,\n",
       "       13.38668561, 15.46397655, 14.70847428, 19.54737285, 20.8764282 ,\n",
       "       11.45511759, 18.05923295,  8.81105736, 14.28275814, 13.70675891,\n",
       "       23.81463526, 22.34193708, 23.10891142, 22.91502612, 31.35762569,\n",
       "       34.21510225, 28.02056414, 25.20386628, 24.60979273, 22.94149176,\n",
       "       22.09669817, 20.42320032, 18.03655088,  9.10655377, 17.20607751,\n",
       "       21.28152535, 23.97222285, 27.6558508 , 24.04901809, 15.3618477 ,\n",
       "       31.15264947, 24.85686978, 33.10919806, 21.77537987, 21.08493555,\n",
       "       17.8725804 , 18.51110208, 23.98742856, 22.55408869, 23.37308644,\n",
       "       30.36148358, 25.53056512, 21.11338564, 17.42153786, 20.78483633,\n",
       "       25.20148859, 21.7426577 , 24.55744957, 24.04295712, 25.50499716,\n",
       "       23.9669302 , 22.94545403, 23.35699818, 21.26198266, 22.42817373,\n",
       "       28.40576968, 26.99486086, 26.03576297, 25.05873482, 24.78456674,\n",
       "       27.79049195, 22.16853423, 25.89276415, 30.67461827, 30.83110623,\n",
       "       27.1190194 , 27.41266734, 28.94122762, 29.08105546, 27.03977365,\n",
       "       28.62459949, 24.72744978, 35.78159518, 35.11454587, 32.25102801,\n",
       "       24.58022019, 25.59413475, 19.79013684, 20.31167129, 21.43482591,\n",
       "       18.53994008, 17.18755992, 20.75049026, 22.64829115, 19.7720367 ,\n",
       "       20.64965864, 26.52586744, 20.77323638, 20.71548315, 25.17208881,\n",
       "       20.43025591, 23.37724626, 23.69043261, 20.33578364, 20.79180873,\n",
       "       21.91632071, 22.47107777, 20.55738556, 16.36661977, 20.56099819,\n",
       "       22.48178446, 14.61706633, 15.17876684, 18.93868592, 14.05573285,\n",
       "       20.03527399, 19.41013402, 20.06191566, 15.75807673, 13.25645238,\n",
       "       17.26277735, 15.87841883, 19.36163954, 13.81483897, 16.44881475,\n",
       "       13.57141932,  3.98885508, 14.59495478, 12.1488148 ,  8.72822362,\n",
       "       12.03585343, 15.82082058,  8.5149902 ,  9.71844139, 14.80451374,\n",
       "       20.83858153, 18.30101169, 20.12282558, 17.28601894, 22.36600228,\n",
       "       20.10375923, 13.62125891, 33.25982697, 29.03017268, 25.56752769,\n",
       "       32.70827666, 36.77467015, 40.55765844, 41.84728168, 24.78867379,\n",
       "       25.37889238, 37.20347455, 23.08748747, 26.40273955, 26.65382114,\n",
       "       22.5551466 , 24.29082812, 22.97657219, 29.07194308, 26.5219434 ,\n",
       "       30.72209056, 25.61669307, 29.13740979, 31.43571968, 32.92231568,\n",
       "       34.72440464, 27.76552111, 33.88787321, 30.99238036, 22.71820008,\n",
       "       24.7664781 , 35.88497226, 33.42476722, 32.41199147, 34.51509949,\n",
       "       30.76109485, 30.28934141, 32.91918714, 32.11260771, 31.55871004,\n",
       "       40.84555721, 36.12770079, 32.6692081 , 34.70469116, 30.09345162,\n",
       "       30.64393906, 29.28719501, 37.07148392, 42.03193124, 43.18949844,\n",
       "       22.69034796, 23.68284712, 17.85447214, 23.49428992, 17.00587718,\n",
       "       22.39251096, 17.06042754, 22.73892921, 25.21942554, 11.11916737,\n",
       "       24.51049148, 26.60334775, 28.35518713, 24.91525464, 29.68652768,\n",
       "       33.18419746, 23.77456656, 32.14051958, 29.7458199 , 38.37102453,\n",
       "       39.81461867, 37.58605755, 32.3995325 , 35.45665242, 31.23411512,\n",
       "       24.48449227, 33.28837292, 38.0481048 , 37.16328631, 31.71383523,\n",
       "       25.26705571, 30.10010745, 32.71987156, 28.42717057, 28.42940678,\n",
       "       27.29375938, 23.74262478, 24.12007891, 27.40208414, 16.3285756 ,\n",
       "       13.39891261, 20.01638775, 19.86184428, 21.2883131 , 24.0798915 ,\n",
       "       24.20633547, 25.04215821, 24.91964007, 29.94563374, 23.97228316,\n",
       "       21.69580887, 37.51109239, 43.30239043, 36.48361421, 34.98988594,\n",
       "       34.81211508, 37.16631331, 40.98928501, 34.44634089, 35.83397547,\n",
       "       28.245743  , 31.22673593, 40.8395575 , 39.31792393, 25.70817905,\n",
       "       22.30295533, 27.20340972, 28.51169472, 35.47676598, 36.10639164,\n",
       "       33.79668274, 35.61085858, 34.83993382, 30.35192656, 35.30980701,\n",
       "       38.79756966, 34.33123186, 40.33963075, 44.67308339, 31.59689086,\n",
       "       27.3565923 , 20.10174154, 27.04206674, 27.2136458 , 26.91395839,\n",
       "       33.43563311, 34.40349633, 31.8333982 , 25.81783237, 24.42982348,\n",
       "       28.45764337, 27.36266999, 19.53928758, 29.11309844, 31.91054611,\n",
       "       30.77159449, 28.94275871, 28.88191022, 32.79887232, 33.20905456,\n",
       "       30.76831792, 35.56226857, 32.70905124, 28.64244237, 23.58965827,\n",
       "       18.54266897, 26.87889843, 23.28133979, 25.54580246, 25.48120057,\n",
       "       20.53909901, 17.61572573, 18.37581686, 24.29070277, 21.32529039,\n",
       "       24.88682244, 24.86937282, 22.86952447, 19.45123791, 25.11783401,\n",
       "       24.66786913, 23.68076177, 19.34089616, 21.17418105, 24.25249073,\n",
       "       21.59260894, 19.98446605, 23.33888   , 22.14060692, 21.55509929,\n",
       "       20.61872907, 20.16097176, 19.28490387, 22.1667232 , 21.24965774,\n",
       "       21.42939305, 30.32788796, 22.04734975, 27.70647912, 28.54794117,\n",
       "       16.54501121, 14.78359641, 25.27380082, 27.54205117, 22.14837562,\n",
       "       20.45944095, 20.54605423, 16.88063827, 25.40253506, 14.32486632,\n",
       "       16.59488462, 19.63704691, 22.71806607, 22.20218887, 19.20548057,\n",
       "       22.66616105, 18.93192618, 18.22846804, 20.23150811, 37.4944739 ,\n",
       "       14.28190734, 15.54286248, 10.83162324, 23.80072902, 32.6440736 ,\n",
       "       34.60684042, 24.94331333, 25.9998091 ,  6.126325  ,  0.77779806,\n",
       "       25.30713064, 17.74061065, 20.23274414, 15.83331301, 16.83512587,\n",
       "       14.36994825, 18.47682833, 13.4276828 , 13.06177512,  3.27918116,\n",
       "        8.06022171,  6.12842196,  5.6186481 ,  6.4519857 , 14.20764735,\n",
       "       17.21225183, 17.29887265,  9.89116643, 20.22124193, 17.94181175,\n",
       "       20.30445783, 19.29559075, 16.33632779,  6.55162319, 10.89016778,\n",
       "       11.88145871, 17.81174507, 18.26126587, 12.97948781,  7.37816361,\n",
       "        8.21115861,  8.06626193, 19.98294786, 13.70756369, 19.85268454,\n",
       "       15.22308298, 16.96071981,  1.71851807, 11.80578387, -4.28131071,\n",
       "        9.58376737, 13.36660811,  6.89562363,  6.14779852, 14.60661794,\n",
       "       19.6000267 , 18.12427476, 18.52177132, 13.1752861 , 14.62617624,\n",
       "        9.92374976, 16.34590647, 14.07519426, 14.25756243, 13.04234787,\n",
       "       18.15955693, 18.69554354, 21.527283  , 17.03141861, 15.96090435,\n",
       "       13.36141611, 14.52079384,  8.81976005,  4.86751102, 13.06591313,\n",
       "       12.70609699, 17.29558059, 18.740485  , 18.05901029, 11.51474683,\n",
       "       11.97400359, 17.68344618, 18.12695239, 17.5183465 , 17.22742507,\n",
       "       16.52271631, 19.41291095, 18.58215236, 22.48944791, 15.28000133,\n",
       "       15.82089335, 12.68725581, 12.8763379 , 17.18668531, 18.51247609,\n",
       "       19.04860533, 20.17208927, 19.7740732 , 22.42940768, 20.31911854,\n",
       "       17.88616253, 14.37478523, 16.94776851, 16.98405762, 18.58838397,\n",
       "       20.16719441, 22.97718032, 22.45580726, 25.57824627, 16.39147632,\n",
       "       16.1114628 , 20.534816  , 11.54272738, 19.20496304, 21.86276391,\n",
       "       23.46878866, 27.09887315, 28.56994302, 21.08398783, 19.45516196,\n",
       "       22.22225914, 19.65591961, 21.32536104, 11.85583717,  8.22386687,\n",
       "        3.66399672, 13.75908538, 15.93118545, 20.62662054, 20.61249414,\n",
       "       16.88541964, 14.01320787, 19.10854144, 21.29805174, 18.45498841,\n",
       "       20.46870847, 23.53334055, 22.37571892, 27.6274261 , 26.12796681,\n",
       "       22.34421229])"
      ]
     },
     "execution_count": 284,
     "metadata": {},
     "output_type": "execute_result"
    }
   ],
   "source": [
    "MM.predict(u)"
   ]
  },
  {
   "cell_type": "code",
   "execution_count": 289,
   "metadata": {},
   "outputs": [
    {
     "data": {
      "text/plain": [
       "(13, 1)"
      ]
     },
     "execution_count": 289,
     "metadata": {},
     "output_type": "execute_result"
    }
   ],
   "source": [
    "(ny.array(DF.iloc[0,:len(DF.columns)-1]).reshape(-1,1)).shape"
   ]
  },
  {
   "cell_type": "code",
   "execution_count": 295,
   "metadata": {},
   "outputs": [
    {
     "data": {
      "text/plain": [
       "3.270862810900317"
      ]
     },
     "execution_count": 295,
     "metadata": {},
     "output_type": "execute_result"
    }
   ],
   "source": [
    "mean_absolute_error(v,MM.predict(u))"
   ]
  },
  {
   "cell_type": "code",
   "execution_count": 309,
   "metadata": {},
   "outputs": [
    {
     "data": {
      "text/plain": [
       "array([25.02556238])"
      ]
     },
     "execution_count": 309,
     "metadata": {},
     "output_type": "execute_result"
    }
   ],
   "source": [
    "MM.predict(tt)"
   ]
  },
  {
   "cell_type": "code",
   "execution_count": 308,
   "metadata": {},
   "outputs": [
    {
     "data": {
      "text/plain": [
       "array([[2.7310e-02, 0.0000e+00, 7.0700e+00, 0.0000e+00, 4.6900e-01,\n",
       "        6.4210e+00, 7.8900e+01, 4.9671e+00, 2.0000e+00, 2.4200e+02,\n",
       "        1.7800e+01, 3.9690e+02, 9.1400e+00]])"
      ]
     },
     "execution_count": 308,
     "metadata": {},
     "output_type": "execute_result"
    }
   ],
   "source": [
    "tt=ny.array(DF.iloc[1,:len(DF.columns)-1])[:,ny.newaxis].T\n",
    "tt"
   ]
  },
  {
   "cell_type": "code",
   "execution_count": 305,
   "metadata": {},
   "outputs": [
    {
     "data": {
      "text/plain": [
       "(506, 13)"
      ]
     },
     "execution_count": 305,
     "metadata": {},
     "output_type": "execute_result"
    }
   ],
   "source": [
    "u.shape"
   ]
  },
  {
   "cell_type": "code",
   "execution_count": 321,
   "metadata": {},
   "outputs": [],
   "source": [
    "PF=make_pipeline(PolynomialFeatures(degree=3),LinearRegression())"
   ]
  },
  {
   "cell_type": "code",
   "execution_count": 322,
   "metadata": {},
   "outputs": [
    {
     "data": {
      "text/plain": [
       "Pipeline(memory=None,\n",
       "         steps=[('polynomialfeatures',\n",
       "                 PolynomialFeatures(degree=3, include_bias=True,\n",
       "                                    interaction_only=False, order='C')),\n",
       "                ('linearregression',\n",
       "                 LinearRegression(copy_X=True, fit_intercept=True, n_jobs=None,\n",
       "                                  normalize=False))],\n",
       "         verbose=False)"
      ]
     },
     "execution_count": 322,
     "metadata": {},
     "output_type": "execute_result"
    }
   ],
   "source": [
    "PF.fit(u,v)"
   ]
  },
  {
   "cell_type": "code",
   "execution_count": 323,
   "metadata": {},
   "outputs": [
    {
     "data": {
      "text/plain": [
       "array([23.99996869, 21.60187026, 34.70491943, 33.42036765, 36.19786459,\n",
       "       28.68147716, 22.9730479 , 27.07847957, 16.49298896, 18.9544297 ,\n",
       "       15.01491388, 18.8003684 , 21.68020695, 20.36549458, 18.22446541,\n",
       "       19.95547895, 23.09363955, 17.72278086, 20.1996044 , 18.12708269,\n",
       "       13.63042696, 19.56139824, 15.18863032, 14.5768225 , 15.4026857 ,\n",
       "       13.85047662, 16.59901891, 14.8650393 , 18.52252582, 20.83464761,\n",
       "       12.62048009, 14.52741794, 13.20442089, 13.15096691, 13.47986915,\n",
       "       18.91415966, 20.00613137, 20.8769966 , 24.80309064, 30.82523028,\n",
       "       34.87113663, 26.63950042, 25.29115578, 24.63232915, 21.22255485,\n",
       "       19.35821444, 19.96995975, 16.59092403, 14.40674175, 19.3845068 ,\n",
       "       19.68756467, 20.5593796 , 24.99957519, 23.35770582, 18.90583686,\n",
       "       35.39907398, 24.70149454, 31.60106842, 23.27992535, 19.62190863,\n",
       "       18.68020558, 16.00091705, 22.18000686, 25.04002006, 32.99538873,\n",
       "       23.51510103, 19.38716612, 22.0678366 , 17.41491925, 20.82066355,\n",
       "       24.24368127, 21.65736589, 22.73037572, 23.4698957 , 24.0635785 ,\n",
       "       21.43670378, 19.98682044, 20.84274696, 21.166559  , 20.31330097,\n",
       "       28.13032945, 23.85656172, 24.60879245, 23.00324512, 24.31000452,\n",
       "       26.2228166 , 22.29366131, 22.37005076, 23.64545611, 28.5890813 ,\n",
       "       22.5911766 , 22.06861078, 22.9183397 , 24.99018204, 20.58920416,\n",
       "       28.41820519, 21.36728469, 38.72220512, 43.84743068, 33.14362326,\n",
       "       27.4207951 , 26.5378412 , 18.59968253, 19.44319092, 19.91507329,\n",
       "       19.54144523, 19.46634501, 20.40534102, 19.89582776, 19.37799315,\n",
       "       21.71611989, 22.78903165, 18.84397613, 18.69728392, 18.40491857,\n",
       "       18.30750581, 21.26471662, 19.25380873, 20.4130576 , 19.24585744,\n",
       "       21.99637349, 20.31140446, 20.47032227, 17.3027631 , 18.81199993,\n",
       "       21.39569447, 15.70150356, 16.29620775, 17.77896398, 14.23907403,\n",
       "       19.33713384, 19.63245701, 22.91252516, 18.39378317, 15.6032745 ,\n",
       "       18.17325502, 17.38563398, 17.12536141, 13.24622505, 17.88148001,\n",
       "       14.02175155, 14.40065977, 13.40122986, 15.59706351, 11.85511605,\n",
       "       13.79504874, 15.5886535 , 14.517896  , 17.85021914, 15.38026618,\n",
       "       21.49967722, 19.59846973, 15.29801612, 19.41299787, 16.99824241,\n",
       "       15.59574773, 13.09925228, 41.34042608, 24.27688502, 23.30166694,\n",
       "       26.99963136, 49.95808798, 49.99824441, 49.99953533, 22.74449482,\n",
       "       25.01356892, 50.02300823, 23.79724689, 23.83923283, 22.20848464,\n",
       "       17.39944718, 19.08817712, 23.05351315, 23.66339068, 22.62576217,\n",
       "       29.39449423, 23.21082398, 24.62192724, 29.83018601, 37.21822161,\n",
       "       39.81003329, 36.15572898, 37.92667311, 32.43632191, 26.41813135,\n",
       "       29.62422574, 49.98667954, 32.02427704, 29.78563279, 34.88217727,\n",
       "       36.99290284, 30.43551649, 36.48666507, 31.11302618, 29.08665474,\n",
       "       49.99824067, 33.29826292, 30.30795346, 34.59102616, 34.90485879,\n",
       "       32.89658127, 24.10812067, 42.2902361 , 48.45338972, 50.04133943,\n",
       "       22.74127574, 24.35158888, 22.52118423, 24.39990529, 19.99942882,\n",
       "       21.70032125, 19.30104629, 22.39899719, 28.0493475 , 23.68957815,\n",
       "       24.95440028, 23.30090652, 28.69827261, 21.50102176, 23.00051427,\n",
       "       26.69909908, 21.70023615, 27.50059853, 30.1162021 , 44.6806285 ,\n",
       "       50.01379369, 37.7066011 , 31.56485787, 46.71518373, 31.49154156,\n",
       "       24.28036972, 31.74694472, 41.69427463, 48.34401746, 28.99883838,\n",
       "       24.01918494, 25.10031952, 31.42879474, 23.67691884, 23.27730037,\n",
       "       22.03645848, 20.11528531, 22.14609901, 23.75135491, 17.64357233,\n",
       "       18.49611752, 24.3035725 , 20.49119542, 24.4751152 , 26.16388453,\n",
       "       24.43482245, 24.8124647 , 29.6012391 , 42.79560648, 21.8801566 ,\n",
       "       20.92225745, 43.99641806, 50.00043734, 35.98623098, 30.089912  ,\n",
       "       33.79115933, 43.228467  , 48.74060142, 31.02029785, 36.44832525,\n",
       "       22.79497426, 30.68418024, 50.0096265 , 43.48724531, 20.69959827,\n",
       "       21.09437884, 25.21862881, 24.38797586, 35.19686907, 32.39861926,\n",
       "       32.02302733, 33.20054185, 33.10022771, 29.07365805, 35.10917043,\n",
       "       45.3872977 , 35.39758328, 45.99817639, 49.99780961, 32.20013061,\n",
       "       21.99943631, 20.09968019, 23.20077693, 22.31560146, 24.78409332,\n",
       "       28.47511163, 37.31813497, 27.90346575, 23.90732632, 21.67830757,\n",
       "       28.59948629, 27.11266713, 20.30348083, 22.4950679 , 28.99949125,\n",
       "       24.80368137, 21.99609414, 26.48877513, 33.01472525, 36.09323473,\n",
       "       28.42171932, 33.39434812, 28.18357178, 22.9442233 , 19.86174007,\n",
       "       16.10182429, 22.08950185, 19.59554794, 21.63744721, 23.54752392,\n",
       "       16.30722842, 17.89124632, 19.69374543, 23.29077073, 21.0350198 ,\n",
       "       23.2268636 , 23.85598482, 20.21686902, 18.48086577, 24.96012049,\n",
       "       24.38865111, 23.23942795, 22.23783793, 19.32535981, 22.58265747,\n",
       "       19.7972173 , 17.10397812, 19.39665482, 22.11162076, 20.8103576 ,\n",
       "       21.12035196, 19.71441114, 18.29405365, 20.57025929, 18.80729353,\n",
       "       18.86657795, 32.6987087 , 16.50157842, 23.90481483, 31.19864796,\n",
       "       17.51185471, 17.19212263, 23.09915454, 24.50073322, 26.60150624,\n",
       "       22.89814055, 24.10870502, 18.59510233, 30.09742117, 18.19885595,\n",
       "       20.60226464, 17.80188189, 21.69852235, 22.70441186, 23.20458605,\n",
       "       24.79138718, 19.20615193, 20.96409008, 16.80127885, 21.9013459 ,\n",
       "       27.50903987, 21.55964499, 23.06973032, 50.02623889, 50.00063463,\n",
       "       49.99825377, 49.69495727, 49.99788538, 13.5766149 , 13.81824921,\n",
       "       15.23916134, 13.97872976, 12.64265456, 12.72176505,  9.86551311,\n",
       "       10.38092254, 10.71037849, 10.18869249, 10.46709696,  8.92828362,\n",
       "        8.38544087, 10.12358635,  6.96801917,  9.83822433, 11.04484299,\n",
       "       14.84183324, 20.77685023, 11.5464193 , 13.78190511, 11.21109672,\n",
       "       12.64390688, 15.08583664, 11.21821341,  4.89489027,  6.45970643,\n",
       "        5.97360923,  9.30381204, 10.51807656,  8.40271657,  8.65269864,\n",
       "        5.03722225, 11.9253603 , 28.27462531, 17.38233869, 27.66157831,\n",
       "       15.00006191, 17.12700765, 17.90407213, 16.29445062,  7.00187078,\n",
       "        7.03919367,  7.6219726 , 10.32519069,  8.7955289 ,  8.37879452,\n",
       "       15.0866805 , 15.70717695, 20.82004247, 13.51104415, 11.77744628,\n",
       "        8.78831073, 10.11942275, 10.89867584, 10.80533693,  9.11568166,\n",
       "       13.71736637, 14.39157623, 16.45761299, 14.3506732 , 11.80982063,\n",
       "       13.71068065,  9.71809545,  8.41040218,  8.40714177, 13.41341611,\n",
       "       10.10833056, 15.38655653, 16.1051171 , 15.60122604, 10.14768934,\n",
       "       12.06913625, 16.02360336, 16.27973776, 13.21299377, 13.63720233,\n",
       "       13.01525079, 15.51184369, 17.42553019, 17.74699367, 15.00238643,\n",
       "       14.28632984, 12.80397297, 13.2805753 , 15.14337634, 18.43753301,\n",
       "       15.67987214, 18.98843895, 18.32973712, 20.46483746, 22.44356428,\n",
       "       20.06067471, 19.0650552 , 18.69244081, 18.94620443, 20.12866875,\n",
       "       19.65030013, 19.65489798, 23.51531131, 29.57539229, 13.73527338,\n",
       "       13.61561842, 16.51563245, 11.97747383, 14.45275309, 21.70104601,\n",
       "       23.26815554, 23.69581652, 24.87722536, 21.72361961, 20.75016977,\n",
       "       21.04208   , 19.36878837, 20.22000127, 15.20407437,  7.01395054,\n",
       "        8.08328225, 13.59653985, 20.10794281, 21.9627947 , 24.41094704,\n",
       "       23.08446764, 19.77766267, 18.17126993, 21.46153764, 17.32882633,\n",
       "       16.71973016, 22.37691851, 20.6247032 , 23.90499203, 22.0094888 ,\n",
       "       11.87876333])"
      ]
     },
     "execution_count": 323,
     "metadata": {},
     "output_type": "execute_result"
    }
   ],
   "source": [
    "PF.predict(u)"
   ]
  },
  {
   "cell_type": "code",
   "execution_count": 329,
   "metadata": {},
   "outputs": [
    {
     "data": {
      "text/plain": [
       "0.9979686566178984"
      ]
     },
     "execution_count": 329,
     "metadata": {},
     "output_type": "execute_result"
    }
   ],
   "source": [
    "PF.score(u,v)"
   ]
  },
  {
   "cell_type": "code",
   "execution_count": 337,
   "metadata": {},
   "outputs": [
    {
     "data": {
      "text/plain": [
       "<matplotlib.collections.PathCollection at 0x21291276c08>"
      ]
     },
     "execution_count": 337,
     "metadata": {},
     "output_type": "execute_result"
    },
    {
     "data": {
      "image/png": "[encoded data removed]",
      "text/plain": [
       "<Figure size 432x288 with 1 Axes>"
      ]
     },
     "metadata": {
      "needs_background": "light"
     },
     "output_type": "display_data"
    }
   ],
   "source": [
    "ml.scatter(u[\"a\"],v)\n"
   ]
  },
  {
   "cell_type": "code",
   "execution_count": 336,
   "metadata": {},
   "outputs": [
    {
     "data": {
      "text/plain": [
       "0      0.00632\n",
       "1      0.02731\n",
       "2      0.02729\n",
       "3      0.03237\n",
       "4      0.06905\n",
       "        ...   \n",
       "501    0.06263\n",
       "502    0.04527\n",
       "503    0.06076\n",
       "504    0.10959\n",
       "505    0.04741\n",
       "Name: a, Length: 506, dtype: float64"
      ]
     },
     "execution_count": 336,
     "metadata": {},
     "output_type": "execute_result"
    }
   ],
   "source": [
    "u[\"a\"]"
   ]
  },
  {
   "cell_type": "markdown",
   "metadata": {},
   "source": [
    "# Regression 2"
   ]
  },
  {
   "cell_type": "code",
   "execution_count": 1,
   "metadata": {},
   "outputs": [
    {
     "name": "stderr",
     "output_type": "stream",
     "text": [
      "C:\\ProgramData\\Anaconda3\\lib\\importlib\\_bootstrap.py:219: RuntimeWarning: numpy.ufunc size changed, may indicate binary incompatibility. Expected 192 from C header, got 216 from PyObject\n",
      "  return f(*args, **kwds)\n",
      "C:\\ProgramData\\Anaconda3\\lib\\importlib\\_bootstrap.py:219: RuntimeWarning: numpy.ufunc size changed, may indicate binary incompatibility. Expected 192 from C header, got 216 from PyObject\n",
      "  return f(*args, **kwds)\n",
      "C:\\ProgramData\\Anaconda3\\lib\\importlib\\_bootstrap.py:219: RuntimeWarning: numpy.ufunc size changed, may indicate binary incompatibility. Expected 192 from C header, got 216 from PyObject\n",
      "  return f(*args, **kwds)\n"
     ]
    }
   ],
   "source": [
    "import numpy as ny \n",
    "import pandas as ps\n",
    "import matplotlib.pyplot as mp\n",
    "import seaborn as sb\n",
    "from sklearn.model_selection import train_test_split\n",
    "from sklearn.model_selection import GridSearchCV\n",
    "from sklearn.linear_model import LinearRegression\n",
    "from sklearn.preprocessing import PolynomialFeatures\n",
    "from sklearn.metrics import accuracy_score\n",
    "from sklearn.metrics import mean_squared_error\n"
   ]
  },
  {
   "cell_type": "code",
   "execution_count": 177,
   "metadata": {},
   "outputs": [],
   "source": [
    "df=ps.read_csv(r\"C:\\Users\\ShinChan\\Downloads\\Maison.csv\")"
   ]
  },
  {
   "cell_type": "code",
   "execution_count": 178,
   "metadata": {},
   "outputs": [
    {
     "data": {
      "text/html": [
       "<div>\n",
       "<style scoped>\n",
       "    .dataframe tbody tr th:only-of-type {\n",
       "        vertical-align: middle;\n",
       "    }\n",
       "\n",
       "    .dataframe tbody tr th {\n",
       "        vertical-align: top;\n",
       "    }\n",
       "\n",
       "    .dataframe thead th {\n",
       "        text-align: right;\n",
       "    }\n",
       "</style>\n",
       "<table border=\"1\" class=\"dataframe\">\n",
       "  <thead>\n",
       "    <tr style=\"text-align: right;\">\n",
       "      <th></th>\n",
       "      <th>PRIX</th>\n",
       "      <th>SUPERFICIE</th>\n",
       "      <th>CHAMBRES</th>\n",
       "      <th>SDB</th>\n",
       "      <th>ETAGES</th>\n",
       "      <th>ALLEE</th>\n",
       "      <th>SALLEJEU</th>\n",
       "      <th>CAVE</th>\n",
       "      <th>GAZ</th>\n",
       "      <th>AIR</th>\n",
       "      <th>GARAGES</th>\n",
       "      <th>SITUATION</th>\n",
       "    </tr>\n",
       "  </thead>\n",
       "  <tbody>\n",
       "    <tr>\n",
       "      <td>0</td>\n",
       "      <td>42000</td>\n",
       "      <td>5850</td>\n",
       "      <td>3</td>\n",
       "      <td>1</td>\n",
       "      <td>2</td>\n",
       "      <td>1</td>\n",
       "      <td>0</td>\n",
       "      <td>1</td>\n",
       "      <td>0</td>\n",
       "      <td>0</td>\n",
       "      <td>1</td>\n",
       "      <td>0</td>\n",
       "    </tr>\n",
       "    <tr>\n",
       "      <td>1</td>\n",
       "      <td>38500</td>\n",
       "      <td>4000</td>\n",
       "      <td>2</td>\n",
       "      <td>1</td>\n",
       "      <td>1</td>\n",
       "      <td>1</td>\n",
       "      <td>0</td>\n",
       "      <td>0</td>\n",
       "      <td>0</td>\n",
       "      <td>0</td>\n",
       "      <td>0</td>\n",
       "      <td>0</td>\n",
       "    </tr>\n",
       "    <tr>\n",
       "      <td>2</td>\n",
       "      <td>49500</td>\n",
       "      <td>3060</td>\n",
       "      <td>3</td>\n",
       "      <td>1</td>\n",
       "      <td>1</td>\n",
       "      <td>1</td>\n",
       "      <td>0</td>\n",
       "      <td>0</td>\n",
       "      <td>0</td>\n",
       "      <td>0</td>\n",
       "      <td>0</td>\n",
       "      <td>0</td>\n",
       "    </tr>\n",
       "    <tr>\n",
       "      <td>3</td>\n",
       "      <td>60500</td>\n",
       "      <td>6650</td>\n",
       "      <td>3</td>\n",
       "      <td>1</td>\n",
       "      <td>2</td>\n",
       "      <td>1</td>\n",
       "      <td>1</td>\n",
       "      <td>0</td>\n",
       "      <td>0</td>\n",
       "      <td>0</td>\n",
       "      <td>0</td>\n",
       "      <td>0</td>\n",
       "    </tr>\n",
       "    <tr>\n",
       "      <td>4</td>\n",
       "      <td>61000</td>\n",
       "      <td>6360</td>\n",
       "      <td>2</td>\n",
       "      <td>1</td>\n",
       "      <td>1</td>\n",
       "      <td>1</td>\n",
       "      <td>0</td>\n",
       "      <td>0</td>\n",
       "      <td>0</td>\n",
       "      <td>0</td>\n",
       "      <td>0</td>\n",
       "      <td>0</td>\n",
       "    </tr>\n",
       "  </tbody>\n",
       "</table>\n",
       "</div>"
      ],
      "text/plain": [
       "    PRIX  SUPERFICIE  CHAMBRES  SDB  ETAGES  ALLEE  SALLEJEU  CAVE  GAZ  AIR  \\\n",
       "0  42000        5850         3    1       2      1         0     1    0    0   \n",
       "1  38500        4000         2    1       1      1         0     0    0    0   \n",
       "2  49500        3060         3    1       1      1         0     0    0    0   \n",
       "3  60500        6650         3    1       2      1         1     0    0    0   \n",
       "4  61000        6360         2    1       1      1         0     0    0    0   \n",
       "\n",
       "   GARAGES  SITUATION  \n",
       "0        1          0  \n",
       "1        0          0  \n",
       "2        0          0  \n",
       "3        0          0  \n",
       "4        0          0  "
      ]
     },
     "execution_count": 178,
     "metadata": {},
     "output_type": "execute_result"
    }
   ],
   "source": [
    "df.head()"
   ]
  },
  {
   "cell_type": "code",
   "execution_count": 5,
   "metadata": {},
   "outputs": [
    {
     "data": {
      "text/plain": [
       "PRIX          0\n",
       "SUPERFICIE    0\n",
       "CHAMBRES      0\n",
       "SDB           0\n",
       "ETAGES        0\n",
       "ALLEE         0\n",
       "SALLEJEU      0\n",
       "CAVE          0\n",
       "GAZ           0\n",
       "AIR           0\n",
       "GARAGES       0\n",
       "SITUATION     0\n",
       "dtype: int64"
      ]
     },
     "execution_count": 5,
     "metadata": {},
     "output_type": "execute_result"
    }
   ],
   "source": [
    "df.isna().sum()"
   ]
  },
  {
   "cell_type": "code",
   "execution_count": 23,
   "metadata": {},
   "outputs": [
    {
     "data": {
      "text/html": [
       "<div>\n",
       "<style scoped>\n",
       "    .dataframe tbody tr th:only-of-type {\n",
       "        vertical-align: middle;\n",
       "    }\n",
       "\n",
       "    .dataframe tbody tr th {\n",
       "        vertical-align: top;\n",
       "    }\n",
       "\n",
       "    .dataframe thead th {\n",
       "        text-align: right;\n",
       "    }\n",
       "</style>\n",
       "<table border=\"1\" class=\"dataframe\">\n",
       "  <thead>\n",
       "    <tr style=\"text-align: right;\">\n",
       "      <th></th>\n",
       "      <th>PRIX</th>\n",
       "      <th>SUPERFICIE</th>\n",
       "      <th>CHAMBRES</th>\n",
       "      <th>SDB</th>\n",
       "      <th>ETAGES</th>\n",
       "      <th>ALLEE</th>\n",
       "      <th>SALLEJEU</th>\n",
       "      <th>CAVE</th>\n",
       "      <th>GAZ</th>\n",
       "      <th>AIR</th>\n",
       "      <th>GARAGES</th>\n",
       "      <th>SITUATION</th>\n",
       "    </tr>\n",
       "  </thead>\n",
       "  <tbody>\n",
       "    <tr>\n",
       "      <td>count</td>\n",
       "      <td>546.000000</td>\n",
       "      <td>546.000000</td>\n",
       "      <td>546.000000</td>\n",
       "      <td>546.000000</td>\n",
       "      <td>546.000000</td>\n",
       "      <td>546.000000</td>\n",
       "      <td>546.000000</td>\n",
       "      <td>546.000000</td>\n",
       "      <td>546.000000</td>\n",
       "      <td>546.000000</td>\n",
       "      <td>546.000000</td>\n",
       "      <td>546.000000</td>\n",
       "    </tr>\n",
       "    <tr>\n",
       "      <td>mean</td>\n",
       "      <td>68121.597070</td>\n",
       "      <td>5150.265568</td>\n",
       "      <td>2.965201</td>\n",
       "      <td>1.285714</td>\n",
       "      <td>1.807692</td>\n",
       "      <td>0.858974</td>\n",
       "      <td>0.177656</td>\n",
       "      <td>0.349817</td>\n",
       "      <td>0.045788</td>\n",
       "      <td>0.316850</td>\n",
       "      <td>0.692308</td>\n",
       "      <td>0.234432</td>\n",
       "    </tr>\n",
       "    <tr>\n",
       "      <td>std</td>\n",
       "      <td>26702.670926</td>\n",
       "      <td>2168.158725</td>\n",
       "      <td>0.737388</td>\n",
       "      <td>0.502158</td>\n",
       "      <td>0.868203</td>\n",
       "      <td>0.348367</td>\n",
       "      <td>0.382573</td>\n",
       "      <td>0.477349</td>\n",
       "      <td>0.209216</td>\n",
       "      <td>0.465675</td>\n",
       "      <td>0.861307</td>\n",
       "      <td>0.424032</td>\n",
       "    </tr>\n",
       "    <tr>\n",
       "      <td>min</td>\n",
       "      <td>25000.000000</td>\n",
       "      <td>1650.000000</td>\n",
       "      <td>1.000000</td>\n",
       "      <td>1.000000</td>\n",
       "      <td>1.000000</td>\n",
       "      <td>0.000000</td>\n",
       "      <td>0.000000</td>\n",
       "      <td>0.000000</td>\n",
       "      <td>0.000000</td>\n",
       "      <td>0.000000</td>\n",
       "      <td>0.000000</td>\n",
       "      <td>0.000000</td>\n",
       "    </tr>\n",
       "    <tr>\n",
       "      <td>25%</td>\n",
       "      <td>49125.000000</td>\n",
       "      <td>3600.000000</td>\n",
       "      <td>2.000000</td>\n",
       "      <td>1.000000</td>\n",
       "      <td>1.000000</td>\n",
       "      <td>1.000000</td>\n",
       "      <td>0.000000</td>\n",
       "      <td>0.000000</td>\n",
       "      <td>0.000000</td>\n",
       "      <td>0.000000</td>\n",
       "      <td>0.000000</td>\n",
       "      <td>0.000000</td>\n",
       "    </tr>\n",
       "    <tr>\n",
       "      <td>50%</td>\n",
       "      <td>62000.000000</td>\n",
       "      <td>4600.000000</td>\n",
       "      <td>3.000000</td>\n",
       "      <td>1.000000</td>\n",
       "      <td>2.000000</td>\n",
       "      <td>1.000000</td>\n",
       "      <td>0.000000</td>\n",
       "      <td>0.000000</td>\n",
       "      <td>0.000000</td>\n",
       "      <td>0.000000</td>\n",
       "      <td>0.000000</td>\n",
       "      <td>0.000000</td>\n",
       "    </tr>\n",
       "    <tr>\n",
       "      <td>75%</td>\n",
       "      <td>82000.000000</td>\n",
       "      <td>6360.000000</td>\n",
       "      <td>3.000000</td>\n",
       "      <td>2.000000</td>\n",
       "      <td>2.000000</td>\n",
       "      <td>1.000000</td>\n",
       "      <td>0.000000</td>\n",
       "      <td>1.000000</td>\n",
       "      <td>0.000000</td>\n",
       "      <td>1.000000</td>\n",
       "      <td>1.000000</td>\n",
       "      <td>0.000000</td>\n",
       "    </tr>\n",
       "    <tr>\n",
       "      <td>max</td>\n",
       "      <td>190000.000000</td>\n",
       "      <td>16200.000000</td>\n",
       "      <td>6.000000</td>\n",
       "      <td>4.000000</td>\n",
       "      <td>4.000000</td>\n",
       "      <td>1.000000</td>\n",
       "      <td>1.000000</td>\n",
       "      <td>1.000000</td>\n",
       "      <td>1.000000</td>\n",
       "      <td>1.000000</td>\n",
       "      <td>3.000000</td>\n",
       "      <td>1.000000</td>\n",
       "    </tr>\n",
       "  </tbody>\n",
       "</table>\n",
       "</div>"
      ],
      "text/plain": [
       "                PRIX    SUPERFICIE    CHAMBRES         SDB      ETAGES  \\\n",
       "count     546.000000    546.000000  546.000000  546.000000  546.000000   \n",
       "mean    68121.597070   5150.265568    2.965201    1.285714    1.807692   \n",
       "std     26702.670926   2168.158725    0.737388    0.502158    0.868203   \n",
       "min     25000.000000   1650.000000    1.000000    1.000000    1.000000   \n",
       "25%     49125.000000   3600.000000    2.000000    1.000000    1.000000   \n",
       "50%     62000.000000   4600.000000    3.000000    1.000000    2.000000   \n",
       "75%     82000.000000   6360.000000    3.000000    2.000000    2.000000   \n",
       "max    190000.000000  16200.000000    6.000000    4.000000    4.000000   \n",
       "\n",
       "            ALLEE    SALLEJEU        CAVE         GAZ         AIR     GARAGES  \\\n",
       "count  546.000000  546.000000  546.000000  546.000000  546.000000  546.000000   \n",
       "mean     0.858974    0.177656    0.349817    0.045788    0.316850    0.692308   \n",
       "std      0.348367    0.382573    0.477349    0.209216    0.465675    0.861307   \n",
       "min      0.000000    0.000000    0.000000    0.000000    0.000000    0.000000   \n",
       "25%      1.000000    0.000000    0.000000    0.000000    0.000000    0.000000   \n",
       "50%      1.000000    0.000000    0.000000    0.000000    0.000000    0.000000   \n",
       "75%      1.000000    0.000000    1.000000    0.000000    1.000000    1.000000   \n",
       "max      1.000000    1.000000    1.000000    1.000000    1.000000    3.000000   \n",
       "\n",
       "        SITUATION  \n",
       "count  546.000000  \n",
       "mean     0.234432  \n",
       "std      0.424032  \n",
       "min      0.000000  \n",
       "25%      0.000000  \n",
       "50%      0.000000  \n",
       "75%      0.000000  \n",
       "max      1.000000  "
      ]
     },
     "execution_count": 23,
     "metadata": {},
     "output_type": "execute_result"
    }
   ],
   "source": [
    "df.describe()"
   ]
  },
  {
   "cell_type": "code",
   "execution_count": 8,
   "metadata": {},
   "outputs": [
    {
     "name": "stdout",
     "output_type": "stream",
     "text": [
      "<class 'pandas.core.frame.DataFrame'>\n",
      "RangeIndex: 546 entries, 0 to 545\n",
      "Data columns (total 12 columns):\n",
      "PRIX          546 non-null int64\n",
      "SUPERFICIE    546 non-null int64\n",
      "CHAMBRES      546 non-null int64\n",
      "SDB           546 non-null int64\n",
      "ETAGES        546 non-null int64\n",
      "ALLEE         546 non-null int64\n",
      "SALLEJEU      546 non-null int64\n",
      "CAVE          546 non-null int64\n",
      "GAZ           546 non-null int64\n",
      "AIR           546 non-null int64\n",
      "GARAGES       546 non-null int64\n",
      "SITUATION     546 non-null int64\n",
      "dtypes: int64(12)\n",
      "memory usage: 51.3 KB\n"
     ]
    }
   ],
   "source": [
    "df.info()"
   ]
  },
  {
   "cell_type": "code",
   "execution_count": 45,
   "metadata": {},
   "outputs": [
    {
     "data": {
      "text/plain": [
       "<matplotlib.axes._subplots.AxesSubplot at 0x1e7602ce348>"
      ]
     },
     "execution_count": 45,
     "metadata": {},
     "output_type": "execute_result"
    },
    {
     "data": {
      "image/png": "[encoded data removed]",
      "text/plain": [
       "<Figure size 432x288 with 1 Axes>"
      ]
     },
     "metadata": {
      "needs_background": "light"
     },
     "output_type": "display_data"
    }
   ],
   "source": [
    "sb.scatterplot(df.SUPERFICIE,df.PRIX)"
   ]
  },
  {
   "cell_type": "code",
   "execution_count": 179,
   "metadata": {},
   "outputs": [
    {
     "data": {
      "text/plain": [
       "(546,)"
      ]
     },
     "execution_count": 179,
     "metadata": {},
     "output_type": "execute_result"
    }
   ],
   "source": [
    "x=df.drop(columns=[\"PRIX\"]).to_numpy()\n",
    "y=df.PRIX.to_numpy()\n",
    "x.shape\n",
    "y.shape"
   ]
  },
  {
   "cell_type": "code",
   "execution_count": 342,
   "metadata": {},
   "outputs": [],
   "source": [
    "x1,a,y1,b=train_test_split(x,y,random_state=7,test_size=0.3)"
   ]
  },
  {
   "cell_type": "code",
   "execution_count": 343,
   "metadata": {},
   "outputs": [],
   "source": [
    "LM=LinearRegression().fit(x1,y1)"
   ]
  },
  {
   "cell_type": "code",
   "execution_count": 344,
   "metadata": {},
   "outputs": [
    {
     "data": {
      "text/plain": [
       "(164, 11)"
      ]
     },
     "execution_count": 344,
     "metadata": {},
     "output_type": "execute_result"
    }
   ],
   "source": [
    "a.shape"
   ]
  },
  {
   "cell_type": "code",
   "execution_count": 345,
   "metadata": {},
   "outputs": [
    {
     "data": {
      "text/plain": [
       "array([ 92331.44452846,  52210.94253424,  55488.87725997,  84598.55247681,\n",
       "       115703.57964163,  65906.7240947 ,  74304.86655154,  81020.21704297,\n",
       "        40383.06381376,  45743.03368579,  97152.45767138,  56633.55008041,\n",
       "        40149.93836638,  94076.49788557,  61147.4605975 ,  94186.96156691,\n",
       "        43915.95931632,  76541.92592615,  68619.10740383,  63920.55454429,\n",
       "        79388.06822437,  78800.99277205,  69669.08287448,  63167.59814351,\n",
       "        84788.86837844,  87372.01023701,  53711.99360815,  74490.0960174 ,\n",
       "        68425.1406102 ,  35482.43386547, 115336.35064343,  89530.04484424,\n",
       "        58084.38733319,  70978.36615703,  74784.72430737,  42459.31967124,\n",
       "        79233.03316281,  50629.3015094 ,  56943.11628656, 120936.91037519,\n",
       "        80339.72018388,  33203.66392715,  44583.15239573,  79311.10916032,\n",
       "        97152.45767138,  42661.46710642,  47121.20855485,  62852.63860175,\n",
       "        66591.97793193,  41497.58793421,  67199.17944846,  91439.43868997,\n",
       "        96888.92736973,  55736.25425734,  70873.06274848,  57888.40558052,\n",
       "        48515.85589455,  85404.36671113,  45951.0602859 ,  53036.95320166,\n",
       "        74605.05892982,  58253.32129414, 106121.8886624 ,  51325.85082796,\n",
       "        57574.30378851,  40291.17861596,  90800.02456503,  72932.26908184,\n",
       "        60759.67434518,  55716.83503964,  55208.50670981,  74171.89681225,\n",
       "        76275.80064612,  50251.42098503,  63972.2006105 ,  62035.45083886,\n",
       "        76372.84934018,  49423.75820078,  41586.41029209,  90016.17395   ,\n",
       "        31733.50076226,  94457.81109791,  41558.84473275,  52272.89533676,\n",
       "        94555.78840834,  52182.07389196,  75032.16143429,  57186.77136519,\n",
       "        75295.69186953,  65214.21921878,  56161.06556474, 136100.67694718,\n",
       "        40407.21692024,  63155.76988577,  65397.2831591 ,  44632.50744749,\n",
       "        98735.88879699,  49381.441004  ,  88678.95747325, 109832.18445318,\n",
       "        71135.13355549,  90074.20045372,  68848.48026442,  99999.2842706 ,\n",
       "       103509.83866427,  55897.64569336,  61769.02237281,  81824.93198203,\n",
       "        59148.3610339 , 100747.65939089,  44763.18441893, 115758.34321743,\n",
       "        51578.78188672, 104469.10575979,  73315.53392338, 112652.79409142,\n",
       "        36703.46481815,  65074.82298417,  83708.42773611,  82957.57842706,\n",
       "        47413.23352088,  73130.34403576,  75489.30392653,  56058.69155432,\n",
       "        42888.46687394,  42243.40623923,  82485.54335621,  51535.79902972,\n",
       "        72846.79204355,  66285.03757325,  48638.45555693,  54899.00346548,\n",
       "        99839.85294241,  55061.23296766, 102602.75384875,  42469.79284619,\n",
       "       110558.00856449,  52926.43145455,  66437.70068632,  95685.37340849,\n",
       "        89239.32980885,  46188.09755013,  53569.88734893,  67910.7027658 ,\n",
       "        60402.94245173,  61783.13204539,  65809.90456662,  56330.54830118,\n",
       "        42048.89912104,  81101.16267918,  91946.8107734 ,  86756.88866021,\n",
       "        71974.48513725,  41130.04714298,  72262.68238975,  91135.39726256,\n",
       "        41436.33113567,  33295.54912496,  80074.10255801,  56453.06189826,\n",
       "        45816.45174084,  46800.75160081, 120318.09896774,  47218.94994768])"
      ]
     },
     "execution_count": 345,
     "metadata": {},
     "output_type": "execute_result"
    }
   ],
   "source": [
    "LM.predict(a)"
   ]
  },
  {
   "cell_type": "code",
   "execution_count": 136,
   "metadata": {},
   "outputs": [],
   "source": [
    "df[\"Predict\"]=LM.predict(x)"
   ]
  },
  {
   "cell_type": "code",
   "execution_count": 184,
   "metadata": {},
   "outputs": [
    {
     "data": {
      "text/plain": [
       "-3279.0226024258736"
      ]
     },
     "execution_count": 184,
     "metadata": {},
     "output_type": "execute_result"
    }
   ],
   "source": [
    "LM.intercept_"
   ]
  },
  {
   "cell_type": "code",
   "execution_count": 185,
   "metadata": {},
   "outputs": [
    {
     "data": {
      "text/plain": [
       "array([3.06283993e+00, 2.68739527e+03, 1.32470886e+04, 6.35243311e+03,\n",
       "       8.71481773e+03, 6.08890280e+03, 4.28823541e+03, 1.36739073e+04,\n",
       "       1.33735275e+04, 4.62925282e+03, 5.85310274e+03])"
      ]
     },
     "execution_count": 185,
     "metadata": {},
     "output_type": "execute_result"
    }
   ],
   "source": [
    "LM.coef_"
   ]
  },
  {
   "cell_type": "code",
   "execution_count": 139,
   "metadata": {},
   "outputs": [],
   "source": [
    "w=df.iloc[1,1:]"
   ]
  },
  {
   "cell_type": "code",
   "execution_count": 174,
   "metadata": {},
   "outputs": [],
   "source": [
    "q=w.to_numpy()\n"
   ]
  },
  {
   "cell_type": "code",
   "execution_count": 175,
   "metadata": {},
   "outputs": [
    {
     "data": {
      "text/plain": [
       "array([[4.00000000e+03, 2.00000000e+00, 1.00000000e+00, 1.00000000e+00,\n",
       "        1.00000000e+00, 0.00000000e+00, 0.00000000e+00, 0.00000000e+00,\n",
       "        0.00000000e+00, 0.00000000e+00, 0.00000000e+00, 4.26614671e+04]])"
      ]
     },
     "execution_count": 175,
     "metadata": {},
     "output_type": "execute_result"
    }
   ],
   "source": [
    "q.reshape(1,12)"
   ]
  },
  {
   "cell_type": "code",
   "execution_count": 110,
   "metadata": {},
   "outputs": [
    {
     "data": {
      "text/plain": [
       "(137,)"
      ]
     },
     "execution_count": 110,
     "metadata": {},
     "output_type": "execute_result"
    }
   ],
   "source": [
    "b.shape"
   ]
  },
  {
   "cell_type": "code",
   "execution_count": 97,
   "metadata": {},
   "outputs": [
    {
     "data": {
      "text/plain": [
       "array([4000,    3,    1,    1,    1,    0,    0,    0,    0,    0,    0],\n",
       "      dtype=int64)"
      ]
     },
     "execution_count": 97,
     "metadata": {},
     "output_type": "execute_result"
    }
   ],
   "source": [
    "x1[0]"
   ]
  },
  {
   "cell_type": "code",
   "execution_count": 69,
   "metadata": {},
   "outputs": [
    {
     "data": {
      "text/plain": [
       "(409,)"
      ]
     },
     "execution_count": 69,
     "metadata": {},
     "output_type": "execute_result"
    }
   ],
   "source": [
    "y1.shape"
   ]
  },
  {
   "cell_type": "code",
   "execution_count": 70,
   "metadata": {},
   "outputs": [
    {
     "data": {
      "text/plain": [
       "(137, 11)"
      ]
     },
     "execution_count": 70,
     "metadata": {},
     "output_type": "execute_result"
    }
   ],
   "source": [
    "a.shape"
   ]
  },
  {
   "cell_type": "code",
   "execution_count": 176,
   "metadata": {},
   "outputs": [
    {
     "data": {
      "text/plain": [
       "array([42679.76731178])"
      ]
     },
     "execution_count": 176,
     "metadata": {},
     "output_type": "execute_result"
    }
   ],
   "source": [
    "LM.predict(q.reshape(1,12))"
   ]
  },
  {
   "cell_type": "code",
   "execution_count": 172,
   "metadata": {},
   "outputs": [
    {
     "data": {
      "text/plain": [
       "(546, 13)"
      ]
     },
     "execution_count": 172,
     "metadata": {},
     "output_type": "execute_result"
    }
   ],
   "source": [
    "df.shape"
   ]
  },
  {
   "cell_type": "code",
   "execution_count": 173,
   "metadata": {},
   "outputs": [
    {
     "data": {
      "text/html": [
       "<div>\n",
       "<style scoped>\n",
       "    .dataframe tbody tr th:only-of-type {\n",
       "        vertical-align: middle;\n",
       "    }\n",
       "\n",
       "    .dataframe tbody tr th {\n",
       "        vertical-align: top;\n",
       "    }\n",
       "\n",
       "    .dataframe thead th {\n",
       "        text-align: right;\n",
       "    }\n",
       "</style>\n",
       "<table border=\"1\" class=\"dataframe\">\n",
       "  <thead>\n",
       "    <tr style=\"text-align: right;\">\n",
       "      <th></th>\n",
       "      <th>PRIX</th>\n",
       "      <th>SUPERFICIE</th>\n",
       "      <th>CHAMBRES</th>\n",
       "      <th>SDB</th>\n",
       "      <th>ETAGES</th>\n",
       "      <th>ALLEE</th>\n",
       "      <th>SALLEJEU</th>\n",
       "      <th>CAVE</th>\n",
       "      <th>GAZ</th>\n",
       "      <th>AIR</th>\n",
       "      <th>GARAGES</th>\n",
       "      <th>SITUATION</th>\n",
       "      <th>Predict</th>\n",
       "    </tr>\n",
       "  </thead>\n",
       "  <tbody>\n",
       "    <tr>\n",
       "      <td>0</td>\n",
       "      <td>42000</td>\n",
       "      <td>5850</td>\n",
       "      <td>3</td>\n",
       "      <td>1</td>\n",
       "      <td>2</td>\n",
       "      <td>1</td>\n",
       "      <td>0</td>\n",
       "      <td>1</td>\n",
       "      <td>0</td>\n",
       "      <td>0</td>\n",
       "      <td>1</td>\n",
       "      <td>0</td>\n",
       "      <td>66285.037573</td>\n",
       "    </tr>\n",
       "    <tr>\n",
       "      <td>1</td>\n",
       "      <td>38500</td>\n",
       "      <td>4000</td>\n",
       "      <td>2</td>\n",
       "      <td>1</td>\n",
       "      <td>1</td>\n",
       "      <td>1</td>\n",
       "      <td>0</td>\n",
       "      <td>0</td>\n",
       "      <td>0</td>\n",
       "      <td>0</td>\n",
       "      <td>0</td>\n",
       "      <td>0</td>\n",
       "      <td>42661.467106</td>\n",
       "    </tr>\n",
       "    <tr>\n",
       "      <td>2</td>\n",
       "      <td>49500</td>\n",
       "      <td>3060</td>\n",
       "      <td>3</td>\n",
       "      <td>1</td>\n",
       "      <td>1</td>\n",
       "      <td>1</td>\n",
       "      <td>0</td>\n",
       "      <td>0</td>\n",
       "      <td>0</td>\n",
       "      <td>0</td>\n",
       "      <td>0</td>\n",
       "      <td>0</td>\n",
       "      <td>42469.792846</td>\n",
       "    </tr>\n",
       "    <tr>\n",
       "      <td>3</td>\n",
       "      <td>60500</td>\n",
       "      <td>6650</td>\n",
       "      <td>3</td>\n",
       "      <td>1</td>\n",
       "      <td>2</td>\n",
       "      <td>1</td>\n",
       "      <td>1</td>\n",
       "      <td>0</td>\n",
       "      <td>0</td>\n",
       "      <td>0</td>\n",
       "      <td>0</td>\n",
       "      <td>0</td>\n",
       "      <td>65906.724095</td>\n",
       "    </tr>\n",
       "    <tr>\n",
       "      <td>4</td>\n",
       "      <td>61000</td>\n",
       "      <td>6360</td>\n",
       "      <td>2</td>\n",
       "      <td>1</td>\n",
       "      <td>1</td>\n",
       "      <td>1</td>\n",
       "      <td>0</td>\n",
       "      <td>0</td>\n",
       "      <td>0</td>\n",
       "      <td>0</td>\n",
       "      <td>0</td>\n",
       "      <td>0</td>\n",
       "      <td>49889.769334</td>\n",
       "    </tr>\n",
       "    <tr>\n",
       "      <td>...</td>\n",
       "      <td>...</td>\n",
       "      <td>...</td>\n",
       "      <td>...</td>\n",
       "      <td>...</td>\n",
       "      <td>...</td>\n",
       "      <td>...</td>\n",
       "      <td>...</td>\n",
       "      <td>...</td>\n",
       "      <td>...</td>\n",
       "      <td>...</td>\n",
       "      <td>...</td>\n",
       "      <td>...</td>\n",
       "      <td>...</td>\n",
       "    </tr>\n",
       "    <tr>\n",
       "      <td>541</td>\n",
       "      <td>91500</td>\n",
       "      <td>4800</td>\n",
       "      <td>3</td>\n",
       "      <td>2</td>\n",
       "      <td>4</td>\n",
       "      <td>1</td>\n",
       "      <td>1</td>\n",
       "      <td>0</td>\n",
       "      <td>0</td>\n",
       "      <td>1</td>\n",
       "      <td>0</td>\n",
       "      <td>0</td>\n",
       "      <td>99565.952564</td>\n",
       "    </tr>\n",
       "    <tr>\n",
       "      <td>542</td>\n",
       "      <td>94000</td>\n",
       "      <td>6000</td>\n",
       "      <td>3</td>\n",
       "      <td>2</td>\n",
       "      <td>4</td>\n",
       "      <td>1</td>\n",
       "      <td>0</td>\n",
       "      <td>0</td>\n",
       "      <td>0</td>\n",
       "      <td>1</td>\n",
       "      <td>0</td>\n",
       "      <td>0</td>\n",
       "      <td>97152.457671</td>\n",
       "    </tr>\n",
       "    <tr>\n",
       "      <td>543</td>\n",
       "      <td>103000</td>\n",
       "      <td>6000</td>\n",
       "      <td>3</td>\n",
       "      <td>2</td>\n",
       "      <td>4</td>\n",
       "      <td>1</td>\n",
       "      <td>1</td>\n",
       "      <td>0</td>\n",
       "      <td>0</td>\n",
       "      <td>1</td>\n",
       "      <td>1</td>\n",
       "      <td>0</td>\n",
       "      <td>107870.613293</td>\n",
       "    </tr>\n",
       "    <tr>\n",
       "      <td>544</td>\n",
       "      <td>105000</td>\n",
       "      <td>6000</td>\n",
       "      <td>3</td>\n",
       "      <td>2</td>\n",
       "      <td>2</td>\n",
       "      <td>1</td>\n",
       "      <td>1</td>\n",
       "      <td>0</td>\n",
       "      <td>0</td>\n",
       "      <td>1</td>\n",
       "      <td>1</td>\n",
       "      <td>0</td>\n",
       "      <td>95165.747081</td>\n",
       "    </tr>\n",
       "    <tr>\n",
       "      <td>545</td>\n",
       "      <td>105000</td>\n",
       "      <td>6000</td>\n",
       "      <td>3</td>\n",
       "      <td>1</td>\n",
       "      <td>2</td>\n",
       "      <td>1</td>\n",
       "      <td>0</td>\n",
       "      <td>0</td>\n",
       "      <td>0</td>\n",
       "      <td>1</td>\n",
       "      <td>1</td>\n",
       "      <td>0</td>\n",
       "      <td>75829.755655</td>\n",
       "    </tr>\n",
       "  </tbody>\n",
       "</table>\n",
       "<p>546 rows × 13 columns</p>\n",
       "</div>"
      ],
      "text/plain": [
       "       PRIX  SUPERFICIE  CHAMBRES  SDB  ETAGES  ALLEE  SALLEJEU  CAVE  GAZ  \\\n",
       "0     42000        5850         3    1       2      1         0     1    0   \n",
       "1     38500        4000         2    1       1      1         0     0    0   \n",
       "2     49500        3060         3    1       1      1         0     0    0   \n",
       "3     60500        6650         3    1       2      1         1     0    0   \n",
       "4     61000        6360         2    1       1      1         0     0    0   \n",
       "..      ...         ...       ...  ...     ...    ...       ...   ...  ...   \n",
       "541   91500        4800         3    2       4      1         1     0    0   \n",
       "542   94000        6000         3    2       4      1         0     0    0   \n",
       "543  103000        6000         3    2       4      1         1     0    0   \n",
       "544  105000        6000         3    2       2      1         1     0    0   \n",
       "545  105000        6000         3    1       2      1         0     0    0   \n",
       "\n",
       "     AIR  GARAGES  SITUATION        Predict  \n",
       "0      0        1          0   66285.037573  \n",
       "1      0        0          0   42661.467106  \n",
       "2      0        0          0   42469.792846  \n",
       "3      0        0          0   65906.724095  \n",
       "4      0        0          0   49889.769334  \n",
       "..   ...      ...        ...            ...  \n",
       "541    1        0          0   99565.952564  \n",
       "542    1        0          0   97152.457671  \n",
       "543    1        1          0  107870.613293  \n",
       "544    1        1          0   95165.747081  \n",
       "545    1        1          0   75829.755655  \n",
       "\n",
       "[546 rows x 13 columns]"
      ]
     },
     "execution_count": 173,
     "metadata": {},
     "output_type": "execute_result"
    }
   ],
   "source": [
    "df\n"
   ]
  },
  {
   "cell_type": "code",
   "execution_count": 186,
   "metadata": {},
   "outputs": [],
   "source": [
    "from sklearn.pipeline import make_pipeline\n",
    "from sklearn.metrics import r2_score\n",
    "from sklearn.metrics import accuracy_score"
   ]
  },
  {
   "cell_type": "code",
   "execution_count": 187,
   "metadata": {},
   "outputs": [
    {
     "data": {
      "text/plain": [
       "0.7042778940078107"
      ]
     },
     "execution_count": 187,
     "metadata": {},
     "output_type": "execute_result"
    }
   ],
   "source": [
    "r2_score(b,LM.predict(a))"
   ]
  },
  {
   "cell_type": "code",
   "execution_count": 194,
   "metadata": {},
   "outputs": [
    {
     "name": "stderr",
     "output_type": "stream",
     "text": [
      "C:\\ProgramData\\Anaconda3\\lib\\importlib\\_bootstrap.py:219: RuntimeWarning: numpy.ufunc size changed, may indicate binary incompatibility. Expected 192 from C header, got 216 from PyObject\n",
      "  return f(*args, **kwds)\n"
     ]
    }
   ],
   "source": [
    "from statsmodels import api"
   ]
  },
  {
   "cell_type": "code",
   "execution_count": 221,
   "metadata": {},
   "outputs": [
    {
     "data": {
      "text/plain": [
       "<statsmodels.regression.linear_model.RegressionResultsWrapper at 0x1e7637e4748>"
      ]
     },
     "execution_count": 221,
     "metadata": {},
     "output_type": "execute_result"
    }
   ],
   "source": [
    "LM1=api.OLS(x1,inr)\n",
    "inr=api.add_constant(x1)\n",
    "LM1.fit()"
   ]
  },
  {
   "cell_type": "code",
   "execution_count": 212,
   "metadata": {},
   "outputs": [
    {
     "data": {
      "text/plain": [
       "<matplotlib.axes._subplots.AxesSubplot at 0x1e7632ed7c8>"
      ]
     },
     "execution_count": 212,
     "metadata": {},
     "output_type": "execute_result"
    },
    {
     "data": {
      "image/png": "[encoded data removed]",
      "text/plain": [
       "<Figure size 432x288 with 1 Axes>"
      ]
     },
     "metadata": {
      "needs_background": "light"
     },
     "output_type": "display_data"
    }
   ],
   "source": [
    "sb.distplot(b)"
   ]
  },
  {
   "cell_type": "code",
   "execution_count": 213,
   "metadata": {},
   "outputs": [
    {
     "data": {
      "text/plain": [
       "<matplotlib.axes._subplots.AxesSubplot at 0x1e7636de748>"
      ]
     },
     "execution_count": 213,
     "metadata": {},
     "output_type": "execute_result"
    },
    {
     "data": {
      "image/png": "[encoded data removed]",
      "text/plain": [
       "<Figure size 432x288 with 1 Axes>"
      ]
     },
     "metadata": {
      "needs_background": "light"
     },
     "output_type": "display_data"
    }
   ],
   "source": [
    "sb.distplot(LM.predict(a))"
   ]
  },
  {
   "cell_type": "code",
   "execution_count": 228,
   "metadata": {},
   "outputs": [],
   "source": [
    "dff=df.corr()"
   ]
  },
  {
   "cell_type": "code",
   "execution_count": 268,
   "metadata": {},
   "outputs": [],
   "source": [
    "for i in dff.columns:\n",
    "    df1=dff[dff[i]<0.5]"
   ]
  },
  {
   "cell_type": "code",
   "execution_count": 252,
   "metadata": {},
   "outputs": [
    {
     "data": {
      "text/html": [
       "<div>\n",
       "<style scoped>\n",
       "    .dataframe tbody tr th:only-of-type {\n",
       "        vertical-align: middle;\n",
       "    }\n",
       "\n",
       "    .dataframe tbody tr th {\n",
       "        vertical-align: top;\n",
       "    }\n",
       "\n",
       "    .dataframe thead th {\n",
       "        text-align: right;\n",
       "    }\n",
       "</style>\n",
       "<table border=\"1\" class=\"dataframe\">\n",
       "  <thead>\n",
       "    <tr style=\"text-align: right;\">\n",
       "      <th></th>\n",
       "      <th>PRIX</th>\n",
       "      <th>SUPERFICIE</th>\n",
       "      <th>CHAMBRES</th>\n",
       "      <th>SDB</th>\n",
       "      <th>ETAGES</th>\n",
       "      <th>ALLEE</th>\n",
       "      <th>SALLEJEU</th>\n",
       "      <th>CAVE</th>\n",
       "      <th>GAZ</th>\n",
       "      <th>AIR</th>\n",
       "      <th>GARAGES</th>\n",
       "      <th>SITUATION</th>\n",
       "    </tr>\n",
       "  </thead>\n",
       "  <tbody>\n",
       "    <tr>\n",
       "      <td>2</td>\n",
       "      <td>49500</td>\n",
       "      <td>3060</td>\n",
       "      <td>3</td>\n",
       "      <td>1</td>\n",
       "      <td>1</td>\n",
       "      <td>1</td>\n",
       "      <td>0</td>\n",
       "      <td>0</td>\n",
       "      <td>0</td>\n",
       "      <td>0</td>\n",
       "      <td>0</td>\n",
       "      <td>0</td>\n",
       "    </tr>\n",
       "    <tr>\n",
       "      <td>3</td>\n",
       "      <td>60500</td>\n",
       "      <td>6650</td>\n",
       "      <td>3</td>\n",
       "      <td>1</td>\n",
       "      <td>2</td>\n",
       "      <td>1</td>\n",
       "      <td>1</td>\n",
       "      <td>0</td>\n",
       "      <td>0</td>\n",
       "      <td>0</td>\n",
       "      <td>0</td>\n",
       "      <td>0</td>\n",
       "    </tr>\n",
       "    <tr>\n",
       "      <td>4</td>\n",
       "      <td>61000</td>\n",
       "      <td>6360</td>\n",
       "      <td>2</td>\n",
       "      <td>1</td>\n",
       "      <td>1</td>\n",
       "      <td>1</td>\n",
       "      <td>0</td>\n",
       "      <td>0</td>\n",
       "      <td>0</td>\n",
       "      <td>0</td>\n",
       "      <td>0</td>\n",
       "      <td>0</td>\n",
       "    </tr>\n",
       "    <tr>\n",
       "      <td>5</td>\n",
       "      <td>66000</td>\n",
       "      <td>4160</td>\n",
       "      <td>3</td>\n",
       "      <td>1</td>\n",
       "      <td>1</td>\n",
       "      <td>1</td>\n",
       "      <td>1</td>\n",
       "      <td>1</td>\n",
       "      <td>0</td>\n",
       "      <td>1</td>\n",
       "      <td>0</td>\n",
       "      <td>0</td>\n",
       "    </tr>\n",
       "    <tr>\n",
       "      <td>6</td>\n",
       "      <td>66000</td>\n",
       "      <td>3880</td>\n",
       "      <td>3</td>\n",
       "      <td>2</td>\n",
       "      <td>2</td>\n",
       "      <td>1</td>\n",
       "      <td>0</td>\n",
       "      <td>1</td>\n",
       "      <td>0</td>\n",
       "      <td>0</td>\n",
       "      <td>2</td>\n",
       "      <td>0</td>\n",
       "    </tr>\n",
       "    <tr>\n",
       "      <td>...</td>\n",
       "      <td>...</td>\n",
       "      <td>...</td>\n",
       "      <td>...</td>\n",
       "      <td>...</td>\n",
       "      <td>...</td>\n",
       "      <td>...</td>\n",
       "      <td>...</td>\n",
       "      <td>...</td>\n",
       "      <td>...</td>\n",
       "      <td>...</td>\n",
       "      <td>...</td>\n",
       "      <td>...</td>\n",
       "    </tr>\n",
       "    <tr>\n",
       "      <td>513</td>\n",
       "      <td>66000</td>\n",
       "      <td>5010</td>\n",
       "      <td>3</td>\n",
       "      <td>1</td>\n",
       "      <td>2</td>\n",
       "      <td>1</td>\n",
       "      <td>0</td>\n",
       "      <td>1</td>\n",
       "      <td>0</td>\n",
       "      <td>0</td>\n",
       "      <td>0</td>\n",
       "      <td>0</td>\n",
       "    </tr>\n",
       "    <tr>\n",
       "      <td>514</td>\n",
       "      <td>58900</td>\n",
       "      <td>6060</td>\n",
       "      <td>2</td>\n",
       "      <td>1</td>\n",
       "      <td>1</td>\n",
       "      <td>1</td>\n",
       "      <td>0</td>\n",
       "      <td>1</td>\n",
       "      <td>0</td>\n",
       "      <td>0</td>\n",
       "      <td>1</td>\n",
       "      <td>0</td>\n",
       "    </tr>\n",
       "    <tr>\n",
       "      <td>515</td>\n",
       "      <td>53000</td>\n",
       "      <td>3584</td>\n",
       "      <td>2</td>\n",
       "      <td>1</td>\n",
       "      <td>1</td>\n",
       "      <td>1</td>\n",
       "      <td>0</td>\n",
       "      <td>0</td>\n",
       "      <td>1</td>\n",
       "      <td>0</td>\n",
       "      <td>0</td>\n",
       "      <td>0</td>\n",
       "    </tr>\n",
       "    <tr>\n",
       "      <td>532</td>\n",
       "      <td>70000</td>\n",
       "      <td>12900</td>\n",
       "      <td>3</td>\n",
       "      <td>1</td>\n",
       "      <td>1</td>\n",
       "      <td>1</td>\n",
       "      <td>0</td>\n",
       "      <td>0</td>\n",
       "      <td>0</td>\n",
       "      <td>0</td>\n",
       "      <td>2</td>\n",
       "      <td>0</td>\n",
       "    </tr>\n",
       "    <tr>\n",
       "      <td>533</td>\n",
       "      <td>71000</td>\n",
       "      <td>7686</td>\n",
       "      <td>3</td>\n",
       "      <td>1</td>\n",
       "      <td>1</td>\n",
       "      <td>1</td>\n",
       "      <td>1</td>\n",
       "      <td>1</td>\n",
       "      <td>1</td>\n",
       "      <td>0</td>\n",
       "      <td>0</td>\n",
       "      <td>0</td>\n",
       "    </tr>\n",
       "  </tbody>\n",
       "</table>\n",
       "<p>267 rows × 12 columns</p>\n",
       "</div>"
      ],
      "text/plain": [
       "      PRIX  SUPERFICIE  CHAMBRES  SDB  ETAGES  ALLEE  SALLEJEU  CAVE  GAZ  \\\n",
       "2    49500        3060         3    1       1      1         0     0    0   \n",
       "3    60500        6650         3    1       2      1         1     0    0   \n",
       "4    61000        6360         2    1       1      1         0     0    0   \n",
       "5    66000        4160         3    1       1      1         1     1    0   \n",
       "6    66000        3880         3    2       2      1         0     1    0   \n",
       "..     ...         ...       ...  ...     ...    ...       ...   ...  ...   \n",
       "513  66000        5010         3    1       2      1         0     1    0   \n",
       "514  58900        6060         2    1       1      1         0     1    0   \n",
       "515  53000        3584         2    1       1      1         0     0    1   \n",
       "532  70000       12900         3    1       1      1         0     0    0   \n",
       "533  71000        7686         3    1       1      1         1     1    1   \n",
       "\n",
       "     AIR  GARAGES  SITUATION  \n",
       "2      0        0          0  \n",
       "3      0        0          0  \n",
       "4      0        0          0  \n",
       "5      1        0          0  \n",
       "6      0        2          0  \n",
       "..   ...      ...        ...  \n",
       "513    0        0          0  \n",
       "514    0        1          0  \n",
       "515    0        0          0  \n",
       "532    0        2          0  \n",
       "533    0        0          0  \n",
       "\n",
       "[267 rows x 12 columns]"
      ]
     },
     "execution_count": 252,
     "metadata": {},
     "output_type": "execute_result"
    }
   ],
   "source": [
    "df[(df[\"PRIX\"]>df.describe().loc[\"25%\",\"PRIX\"]) & (df[\"PRIX\"]<df.describe().loc[\"75%\",\"PRIX\"])]"
   ]
  },
  {
   "cell_type": "code",
   "execution_count": 265,
   "metadata": {},
   "outputs": [],
   "source": [
    "for i in df.columns[1:2]:\n",
    "    ds=df[(df[i]>df.describe().loc[\"25%\",i]) & (df[i]<df.describe().loc[\"75%\",i])]"
   ]
  },
  {
   "cell_type": "code",
   "execution_count": 266,
   "metadata": {},
   "outputs": [
    {
     "data": {
      "text/html": [
       "<div>\n",
       "<style scoped>\n",
       "    .dataframe tbody tr th:only-of-type {\n",
       "        vertical-align: middle;\n",
       "    }\n",
       "\n",
       "    .dataframe tbody tr th {\n",
       "        vertical-align: top;\n",
       "    }\n",
       "\n",
       "    .dataframe thead th {\n",
       "        text-align: right;\n",
       "    }\n",
       "</style>\n",
       "<table border=\"1\" class=\"dataframe\">\n",
       "  <thead>\n",
       "    <tr style=\"text-align: right;\">\n",
       "      <th></th>\n",
       "      <th>PRIX</th>\n",
       "      <th>SUPERFICIE</th>\n",
       "      <th>CHAMBRES</th>\n",
       "      <th>SDB</th>\n",
       "      <th>ETAGES</th>\n",
       "      <th>ALLEE</th>\n",
       "      <th>SALLEJEU</th>\n",
       "      <th>CAVE</th>\n",
       "      <th>GAZ</th>\n",
       "      <th>AIR</th>\n",
       "      <th>GARAGES</th>\n",
       "      <th>SITUATION</th>\n",
       "    </tr>\n",
       "  </thead>\n",
       "  <tbody>\n",
       "    <tr>\n",
       "      <td>0</td>\n",
       "      <td>42000</td>\n",
       "      <td>5850</td>\n",
       "      <td>3</td>\n",
       "      <td>1</td>\n",
       "      <td>2</td>\n",
       "      <td>1</td>\n",
       "      <td>0</td>\n",
       "      <td>1</td>\n",
       "      <td>0</td>\n",
       "      <td>0</td>\n",
       "      <td>1</td>\n",
       "      <td>0</td>\n",
       "    </tr>\n",
       "    <tr>\n",
       "      <td>1</td>\n",
       "      <td>38500</td>\n",
       "      <td>4000</td>\n",
       "      <td>2</td>\n",
       "      <td>1</td>\n",
       "      <td>1</td>\n",
       "      <td>1</td>\n",
       "      <td>0</td>\n",
       "      <td>0</td>\n",
       "      <td>0</td>\n",
       "      <td>0</td>\n",
       "      <td>0</td>\n",
       "      <td>0</td>\n",
       "    </tr>\n",
       "    <tr>\n",
       "      <td>5</td>\n",
       "      <td>66000</td>\n",
       "      <td>4160</td>\n",
       "      <td>3</td>\n",
       "      <td>1</td>\n",
       "      <td>1</td>\n",
       "      <td>1</td>\n",
       "      <td>1</td>\n",
       "      <td>1</td>\n",
       "      <td>0</td>\n",
       "      <td>1</td>\n",
       "      <td>0</td>\n",
       "      <td>0</td>\n",
       "    </tr>\n",
       "    <tr>\n",
       "      <td>6</td>\n",
       "      <td>66000</td>\n",
       "      <td>3880</td>\n",
       "      <td>3</td>\n",
       "      <td>2</td>\n",
       "      <td>2</td>\n",
       "      <td>1</td>\n",
       "      <td>0</td>\n",
       "      <td>1</td>\n",
       "      <td>0</td>\n",
       "      <td>0</td>\n",
       "      <td>2</td>\n",
       "      <td>0</td>\n",
       "    </tr>\n",
       "    <tr>\n",
       "      <td>7</td>\n",
       "      <td>69000</td>\n",
       "      <td>4160</td>\n",
       "      <td>3</td>\n",
       "      <td>1</td>\n",
       "      <td>3</td>\n",
       "      <td>1</td>\n",
       "      <td>0</td>\n",
       "      <td>0</td>\n",
       "      <td>0</td>\n",
       "      <td>0</td>\n",
       "      <td>0</td>\n",
       "      <td>0</td>\n",
       "    </tr>\n",
       "    <tr>\n",
       "      <td>...</td>\n",
       "      <td>...</td>\n",
       "      <td>...</td>\n",
       "      <td>...</td>\n",
       "      <td>...</td>\n",
       "      <td>...</td>\n",
       "      <td>...</td>\n",
       "      <td>...</td>\n",
       "      <td>...</td>\n",
       "      <td>...</td>\n",
       "      <td>...</td>\n",
       "      <td>...</td>\n",
       "      <td>...</td>\n",
       "    </tr>\n",
       "    <tr>\n",
       "      <td>541</td>\n",
       "      <td>91500</td>\n",
       "      <td>4800</td>\n",
       "      <td>3</td>\n",
       "      <td>2</td>\n",
       "      <td>4</td>\n",
       "      <td>1</td>\n",
       "      <td>1</td>\n",
       "      <td>0</td>\n",
       "      <td>0</td>\n",
       "      <td>1</td>\n",
       "      <td>0</td>\n",
       "      <td>0</td>\n",
       "    </tr>\n",
       "    <tr>\n",
       "      <td>542</td>\n",
       "      <td>94000</td>\n",
       "      <td>6000</td>\n",
       "      <td>3</td>\n",
       "      <td>2</td>\n",
       "      <td>4</td>\n",
       "      <td>1</td>\n",
       "      <td>0</td>\n",
       "      <td>0</td>\n",
       "      <td>0</td>\n",
       "      <td>1</td>\n",
       "      <td>0</td>\n",
       "      <td>0</td>\n",
       "    </tr>\n",
       "    <tr>\n",
       "      <td>543</td>\n",
       "      <td>103000</td>\n",
       "      <td>6000</td>\n",
       "      <td>3</td>\n",
       "      <td>2</td>\n",
       "      <td>4</td>\n",
       "      <td>1</td>\n",
       "      <td>1</td>\n",
       "      <td>0</td>\n",
       "      <td>0</td>\n",
       "      <td>1</td>\n",
       "      <td>1</td>\n",
       "      <td>0</td>\n",
       "    </tr>\n",
       "    <tr>\n",
       "      <td>544</td>\n",
       "      <td>105000</td>\n",
       "      <td>6000</td>\n",
       "      <td>3</td>\n",
       "      <td>2</td>\n",
       "      <td>2</td>\n",
       "      <td>1</td>\n",
       "      <td>1</td>\n",
       "      <td>0</td>\n",
       "      <td>0</td>\n",
       "      <td>1</td>\n",
       "      <td>1</td>\n",
       "      <td>0</td>\n",
       "    </tr>\n",
       "    <tr>\n",
       "      <td>545</td>\n",
       "      <td>105000</td>\n",
       "      <td>6000</td>\n",
       "      <td>3</td>\n",
       "      <td>1</td>\n",
       "      <td>2</td>\n",
       "      <td>1</td>\n",
       "      <td>0</td>\n",
       "      <td>0</td>\n",
       "      <td>0</td>\n",
       "      <td>1</td>\n",
       "      <td>1</td>\n",
       "      <td>0</td>\n",
       "    </tr>\n",
       "  </tbody>\n",
       "</table>\n",
       "<p>260 rows × 12 columns</p>\n",
       "</div>"
      ],
      "text/plain": [
       "       PRIX  SUPERFICIE  CHAMBRES  SDB  ETAGES  ALLEE  SALLEJEU  CAVE  GAZ  \\\n",
       "0     42000        5850         3    1       2      1         0     1    0   \n",
       "1     38500        4000         2    1       1      1         0     0    0   \n",
       "5     66000        4160         3    1       1      1         1     1    0   \n",
       "6     66000        3880         3    2       2      1         0     1    0   \n",
       "7     69000        4160         3    1       3      1         0     0    0   \n",
       "..      ...         ...       ...  ...     ...    ...       ...   ...  ...   \n",
       "541   91500        4800         3    2       4      1         1     0    0   \n",
       "542   94000        6000         3    2       4      1         0     0    0   \n",
       "543  103000        6000         3    2       4      1         1     0    0   \n",
       "544  105000        6000         3    2       2      1         1     0    0   \n",
       "545  105000        6000         3    1       2      1         0     0    0   \n",
       "\n",
       "     AIR  GARAGES  SITUATION  \n",
       "0      0        1          0  \n",
       "1      0        0          0  \n",
       "5      1        0          0  \n",
       "6      0        2          0  \n",
       "7      0        0          0  \n",
       "..   ...      ...        ...  \n",
       "541    1        0          0  \n",
       "542    1        0          0  \n",
       "543    1        1          0  \n",
       "544    1        1          0  \n",
       "545    1        1          0  \n",
       "\n",
       "[260 rows x 12 columns]"
      ]
     },
     "execution_count": 266,
     "metadata": {},
     "output_type": "execute_result"
    }
   ],
   "source": [
    "ds\n"
   ]
  },
  {
   "cell_type": "code",
   "execution_count": 278,
   "metadata": {},
   "outputs": [
    {
     "name": "stdout",
     "output_type": "stream",
     "text": [
      "PRIX 60000     10\n",
      "70000      8\n",
      "50000      7\n",
      "67000      5\n",
      "82000      5\n",
      "          ..\n",
      "40750      1\n",
      "94000      1\n",
      "72500      1\n",
      "91500      1\n",
      "117000     1\n",
      "Name: PRIX, Length: 139, dtype: int64\n",
      "SUPERFICIE 6000    24\n",
      "4500    13\n",
      "4000    11\n",
      "5500     9\n",
      "4040     7\n",
      "        ..\n",
      "5020     1\n",
      "6040     1\n",
      "3990     1\n",
      "3840     1\n",
      "5360     1\n",
      "Name: SUPERFICIE, Length: 124, dtype: int64\n",
      "CHAMBRES 3    137\n",
      "2     69\n",
      "4     49\n",
      "5      3\n",
      "6      1\n",
      "1      1\n",
      "Name: CHAMBRES, dtype: int64\n",
      "SDB 1    194\n",
      "2     62\n",
      "3      4\n",
      "Name: SDB, dtype: int64\n",
      "ETAGES 2    117\n",
      "1    101\n",
      "4     24\n",
      "3     18\n",
      "Name: ETAGES, dtype: int64\n",
      "ALLEE 1    233\n",
      "0     27\n",
      "Name: ALLEE, dtype: int64\n",
      "SALLEJEU 0    211\n",
      "1     49\n",
      "Name: SALLEJEU, dtype: int64\n",
      "CAVE 0    181\n",
      "1     79\n",
      "Name: CAVE, dtype: int64\n",
      "GAZ 0    248\n",
      "1     12\n",
      "Name: GAZ, dtype: int64\n",
      "AIR 0    173\n",
      "1     87\n",
      "Name: AIR, dtype: int64\n",
      "GARAGES 0    153\n",
      "1     61\n",
      "2     44\n",
      "3      2\n",
      "Name: GARAGES, dtype: int64\n",
      "SITUATION 0    223\n",
      "1     37\n",
      "Name: SITUATION, dtype: int64\n"
     ]
    }
   ],
   "source": [
    "for i in df.columns:\n",
    "    ss=ds[i].value_counts()\n",
    "    print(i,ss)"
   ]
  },
  {
   "cell_type": "code",
   "execution_count": 280,
   "metadata": {},
   "outputs": [],
   "source": [
    "ds=ds.drop(columns=[\"ALLEE\",\"SALLEJEU\",\"CAVE\",\"GAZ\",\"AIR\",\"SITUATION\"])"
   ]
  },
  {
   "cell_type": "code",
   "execution_count": 281,
   "metadata": {},
   "outputs": [
    {
     "data": {
      "text/html": [
       "<div>\n",
       "<style scoped>\n",
       "    .dataframe tbody tr th:only-of-type {\n",
       "        vertical-align: middle;\n",
       "    }\n",
       "\n",
       "    .dataframe tbody tr th {\n",
       "        vertical-align: top;\n",
       "    }\n",
       "\n",
       "    .dataframe thead th {\n",
       "        text-align: right;\n",
       "    }\n",
       "</style>\n",
       "<table border=\"1\" class=\"dataframe\">\n",
       "  <thead>\n",
       "    <tr style=\"text-align: right;\">\n",
       "      <th></th>\n",
       "      <th>PRIX</th>\n",
       "      <th>SUPERFICIE</th>\n",
       "      <th>CHAMBRES</th>\n",
       "      <th>SDB</th>\n",
       "      <th>ETAGES</th>\n",
       "      <th>GARAGES</th>\n",
       "    </tr>\n",
       "  </thead>\n",
       "  <tbody>\n",
       "    <tr>\n",
       "      <td>541</td>\n",
       "      <td>91500</td>\n",
       "      <td>4800</td>\n",
       "      <td>3</td>\n",
       "      <td>2</td>\n",
       "      <td>4</td>\n",
       "      <td>0</td>\n",
       "    </tr>\n",
       "    <tr>\n",
       "      <td>542</td>\n",
       "      <td>94000</td>\n",
       "      <td>6000</td>\n",
       "      <td>3</td>\n",
       "      <td>2</td>\n",
       "      <td>4</td>\n",
       "      <td>0</td>\n",
       "    </tr>\n",
       "    <tr>\n",
       "      <td>543</td>\n",
       "      <td>103000</td>\n",
       "      <td>6000</td>\n",
       "      <td>3</td>\n",
       "      <td>2</td>\n",
       "      <td>4</td>\n",
       "      <td>1</td>\n",
       "    </tr>\n",
       "    <tr>\n",
       "      <td>544</td>\n",
       "      <td>105000</td>\n",
       "      <td>6000</td>\n",
       "      <td>3</td>\n",
       "      <td>2</td>\n",
       "      <td>2</td>\n",
       "      <td>1</td>\n",
       "    </tr>\n",
       "    <tr>\n",
       "      <td>545</td>\n",
       "      <td>105000</td>\n",
       "      <td>6000</td>\n",
       "      <td>3</td>\n",
       "      <td>1</td>\n",
       "      <td>2</td>\n",
       "      <td>1</td>\n",
       "    </tr>\n",
       "  </tbody>\n",
       "</table>\n",
       "</div>"
      ],
      "text/plain": [
       "       PRIX  SUPERFICIE  CHAMBRES  SDB  ETAGES  GARAGES\n",
       "541   91500        4800         3    2       4        0\n",
       "542   94000        6000         3    2       4        0\n",
       "543  103000        6000         3    2       4        1\n",
       "544  105000        6000         3    2       2        1\n",
       "545  105000        6000         3    1       2        1"
      ]
     },
     "execution_count": 281,
     "metadata": {},
     "output_type": "execute_result"
    }
   ],
   "source": [
    "ds.tail()"
   ]
  },
  {
   "cell_type": "code",
   "execution_count": 284,
   "metadata": {},
   "outputs": [],
   "source": [
    "u=ds.drop(columns=[\"PRIX\"]).to_numpy()\n",
    "v=ds.PRIX.to_numpy()"
   ]
  },
  {
   "cell_type": "code",
   "execution_count": 376,
   "metadata": {},
   "outputs": [],
   "source": [
    "l,o,i,p=train_test_split(u,v,random_state=7,test_size=0.25)"
   ]
  },
  {
   "cell_type": "code",
   "execution_count": 377,
   "metadata": {},
   "outputs": [],
   "source": [
    "LP=LinearRegression()"
   ]
  },
  {
   "cell_type": "code",
   "execution_count": 297,
   "metadata": {},
   "outputs": [
    {
     "data": {
      "text/plain": [
       "LinearRegression(copy_X=True, fit_intercept=True, n_jobs=None, normalize=False)"
      ]
     },
     "execution_count": 297,
     "metadata": {},
     "output_type": "execute_result"
    }
   ],
   "source": [
    "LP.fit(l,i)"
   ]
  },
  {
   "cell_type": "code",
   "execution_count": 304,
   "metadata": {},
   "outputs": [
    {
     "data": {
      "text/plain": [
       "array([ 54567.96944555,  93976.70519756,  56212.19813397,  66099.03230234,\n",
       "       100678.082128  ,  55136.11864153,  48114.16862792,  42310.096166  ,\n",
       "        59046.36076885,  54422.8569159 ,  42271.33194178,  79258.65285811,\n",
       "        45760.11212148,  64135.03531244,  79481.06808423,  59062.43671041,\n",
       "        61623.05825338,  60645.57422152,  45449.99832773,  80458.55211609,\n",
       "        78057.58748887,  69994.62885135,  63768.52418993,  95572.00023185,\n",
       "        72628.4133537 ,  94239.6763407 ,  73724.34239132,  57883.43404229,\n",
       "        56381.50955744,  72459.4632598 ,  67602.69315031,  66003.41559011,\n",
       "        62263.1104678 ,  76475.95181106, 100176.56379823,  86999.14483816,\n",
       "        68628.82166608,  55014.88145009,  70210.45734388,  78675.39780202,\n",
       "        61400.41727529,  58464.21649435,  59790.34401436,  71981.4845462 ,\n",
       "        71826.42764932,  61992.44180949,  64113.91297061,  76769.98966326,\n",
       "        74193.29217874,  49016.30695586,  87157.06539079,  95250.40982614,\n",
       "        67776.68964448,  49509.68069979,  48241.02247149,  42348.86039022,\n",
       "        65155.93822779,  54766.79041509,  82436.41258087,  75139.47497172,\n",
       "        49791.59144024,  72561.41566475,  54112.74312215,  69336.52206924,\n",
       "        60258.61289055])"
      ]
     },
     "execution_count": 304,
     "metadata": {},
     "output_type": "execute_result"
    }
   ],
   "source": [
    "LP.predict(o)"
   ]
  },
  {
   "cell_type": "code",
   "execution_count": 315,
   "metadata": {},
   "outputs": [],
   "source": [
    "df.to_csv(r\"C:\\Users\\ShinChan\\Downloads\\Maison.csv\")"
   ]
  },
  {
   "cell_type": "code",
   "execution_count": 322,
   "metadata": {},
   "outputs": [],
   "source": [
    "fd=ps.DataFrame(LP.predict(o),columns=[\"{0:pridict}\"]).to_csv(r\"C:\\Users\\ShinChan\\Downloads\\predict - Copy.csv\")"
   ]
  },
  {
   "cell_type": "code",
   "execution_count": 331,
   "metadata": {},
   "outputs": [],
   "source": [
    "fd=ps.DataFrame(LP.predict(o),columns={\"{0:pridict}\":\"pridict\"})"
   ]
  },
  {
   "cell_type": "code",
   "execution_count": 340,
   "metadata": {},
   "outputs": [
    {
     "data": {
      "text/plain": [
       "Index(['{0:pridict}', 'original', 'differ'], dtype='object')"
      ]
     },
     "execution_count": 340,
     "metadata": {},
     "output_type": "execute_result"
    }
   ],
   "source": [
    "fd.columns"
   ]
  },
  {
   "cell_type": "code",
   "execution_count": 333,
   "metadata": {},
   "outputs": [],
   "source": [
    "fd[\"original\"]=p"
   ]
  },
  {
   "cell_type": "code",
   "execution_count": 337,
   "metadata": {},
   "outputs": [],
   "source": [
    "fd[\"differ\"]=fd.apply(lambda i :i-fd.original)"
   ]
  },
  {
   "cell_type": "code",
   "execution_count": 339,
   "metadata": {},
   "outputs": [],
   "source": [
    "fd.to_csv(r\"C:\\Users\\ShinChan\\Downloads\\predict - Copy.csv\")"
   ]
  },
  {
   "cell_type": "code",
   "execution_count": 341,
   "metadata": {},
   "outputs": [
    {
     "data": {
      "text/plain": [
       "0.2409316548722642"
      ]
     },
     "execution_count": 341,
     "metadata": {},
     "output_type": "execute_result"
    }
   ],
   "source": [
    "r2_score(p,LP.predict(o))"
   ]
  },
  {
   "cell_type": "code",
   "execution_count": 346,
   "metadata": {},
   "outputs": [
    {
     "data": {
      "text/plain": [
       "0.7042778940078107"
      ]
     },
     "execution_count": 346,
     "metadata": {},
     "output_type": "execute_result"
    }
   ],
   "source": [
    "r2_score(b,LM.predict(a))"
   ]
  },
  {
   "cell_type": "code",
   "execution_count": null,
   "metadata": {},
   "outputs": [],
   "source": []
  },
  {
   "cell_type": "code",
   "execution_count": 355,
   "metadata": {},
   "outputs": [
    {
     "data": {
      "text/plain": [
       "(164,)"
      ]
     },
     "execution_count": 355,
     "metadata": {},
     "output_type": "execute_result"
    }
   ],
   "source": [
    "LM.predict(a).shape"
   ]
  },
  {
   "cell_type": "code",
   "execution_count": 357,
   "metadata": {},
   "outputs": [
    {
     "data": {
      "text/plain": [
       "(164,)"
      ]
     },
     "execution_count": 357,
     "metadata": {},
     "output_type": "execute_result"
    }
   ],
   "source": [
    "b.shape"
   ]
  },
  {
   "cell_type": "code",
   "execution_count": 359,
   "metadata": {},
   "outputs": [
    {
     "data": {
      "text/plain": [
       "(164, 1)"
      ]
     },
     "execution_count": 359,
     "metadata": {},
     "output_type": "execute_result"
    }
   ],
   "source": [
    "b.reshape(-1,1).shape"
   ]
  },
  {
   "cell_type": "code",
   "execution_count": 363,
   "metadata": {},
   "outputs": [],
   "source": [
    "PR=make_pipeline(PolynomialFeatures(degree=2),LinearRegression())"
   ]
  },
  {
   "cell_type": "code",
   "execution_count": 364,
   "metadata": {},
   "outputs": [
    {
     "data": {
      "text/plain": [
       "Pipeline(memory=None,\n",
       "         steps=[('polynomialfeatures',\n",
       "                 PolynomialFeatures(degree=2, include_bias=True,\n",
       "                                    interaction_only=False, order='C')),\n",
       "                ('linearregression',\n",
       "                 LinearRegression(copy_X=True, fit_intercept=True, n_jobs=None,\n",
       "                                  normalize=False))],\n",
       "         verbose=False)"
      ]
     },
     "execution_count": 364,
     "metadata": {},
     "output_type": "execute_result"
    }
   ],
   "source": [
    "PR.fit(x1,y1)"
   ]
  },
  {
   "cell_type": "code",
   "execution_count": 365,
   "metadata": {},
   "outputs": [
    {
     "data": {
      "text/plain": [
       "array([ 90499.5319486 ,  41523.51457261,  62243.24867098,  78187.22869461,\n",
       "       115088.1353399 ,  48711.88170874,  72134.90005327,  65457.04847798,\n",
       "        44186.42606052,  46431.68760061,  93346.18754008,  51176.48062006,\n",
       "        39645.2929043 ,  91113.95734372,  71092.44184732, 109761.58988264,\n",
       "        60451.69166805,  64641.58870159,  70274.70582352,  62690.17554105,\n",
       "        87153.00811649,  80674.30947092,  63598.8430005 ,  72094.64961755,\n",
       "        96892.73174322,  84529.60679903,  40342.38068064,  67193.0877277 ,\n",
       "        50868.20950967,  36846.36105293, 126874.09940632,  92861.91302229,\n",
       "        70582.21181743,  68512.24857938,  67795.6219603 ,  43928.29934164,\n",
       "        78218.55961925,  49733.81839248,  61181.82010055,  52695.59423094,\n",
       "        63494.73920945,  42496.15551443,  48162.09596908,  72812.22742365,\n",
       "        93346.18754008,  44275.19122248,  45226.62700628,  35277.96453777,\n",
       "        62672.87298616,  42216.17340781,  61902.30222252,  94862.21577448,\n",
       "        86320.6444121 ,  65320.01947303,  75616.43091088,  68105.48089848,\n",
       "        50466.03145256,  83504.18677139,  40810.27205557,  51560.10703415,\n",
       "        73175.05674567,  72350.71691897, 119004.17248228,  49581.99275449,\n",
       "        59191.95618091,  44120.29535181,  89717.13392565,  65053.00403389,\n",
       "        65517.36231973,  69993.73705611,  56412.83236029,  80502.74998336,\n",
       "        78578.24006541,  56054.44913255,  55745.11214791,  73067.21117238,\n",
       "        88418.00299214,  36023.87840045,  42378.57775615,  85730.15944605,\n",
       "        40959.49237868,  81685.69777502,  42328.26957693,  58801.81410987,\n",
       "       107917.99626896,  57837.06436687,  76000.07250235,  60676.80560921,\n",
       "        76950.15576947,  84640.38278766,  55214.77148081, 165293.07791712,\n",
       "        40151.57605015,  57757.24946932,  62949.87746671,  45575.84700454,\n",
       "        91643.85803982,  46626.08046158,  84190.97529799, 113310.29664243,\n",
       "        79708.59179373,  95769.52299683,  68808.33801131,  88509.16534163,\n",
       "        62954.81508687,  57844.06059124,  77657.92920055,  81346.61667751,\n",
       "        64213.71632103,  84815.60119245,  54726.38759573,  99721.89871623,\n",
       "        51211.90209056, 111790.62466224,  88393.19927569,  98212.80414463,\n",
       "        54952.99517539,  57544.69987129,  76201.31677216,  92483.23416674,\n",
       "        48587.34422014,  84111.61636837,  76959.33088879,  57723.38424869,\n",
       "        45630.54085023,  46289.98965826,  99078.02949372,  57547.54020204,\n",
       "        62432.73698987,  75361.16139735,  46311.62039897,  50379.59884312,\n",
       "        92396.64836077,  48402.69244135,  92366.12535534,  44252.07978759,\n",
       "       119765.17498315,  53139.01519356,  68456.03834605,  81625.57490114,\n",
       "        86771.84646317,  46342.55974266,  52799.22840959,  62387.5057002 ,\n",
       "        65920.15531371,  58088.7552211 ,  58669.88881109,  60244.38599434,\n",
       "        43210.13168809,  84492.32082853,  99240.60044328,  94857.78186948,\n",
       "        72677.52260298,  41534.90050201,  63784.14269558, 102368.03927201,\n",
       "        42103.66314863,  42584.27748819,  63519.05101092,  60435.18553599,\n",
       "        50639.11458439,  42764.4589825 , 111084.51920413,  37091.21949965])"
      ]
     },
     "execution_count": 365,
     "metadata": {},
     "output_type": "execute_result"
    }
   ],
   "source": [
    "PR.predict(a)"
   ]
  },
  {
   "cell_type": "code",
   "execution_count": 366,
   "metadata": {},
   "outputs": [
    {
     "data": {
      "text/plain": [
       "0.5784501439782528"
      ]
     },
     "execution_count": 366,
     "metadata": {},
     "output_type": "execute_result"
    }
   ],
   "source": [
    "r2_score(b,PR.predict(a))"
   ]
  },
  {
   "cell_type": "code",
   "execution_count": 367,
   "metadata": {},
   "outputs": [],
   "source": [
    "PR1=make_pipeline(PolynomialFeatures(degree=3),LinearRegression())"
   ]
  },
  {
   "cell_type": "code",
   "execution_count": 368,
   "metadata": {},
   "outputs": [
    {
     "data": {
      "text/plain": [
       "Pipeline(memory=None,\n",
       "         steps=[('polynomialfeatures',\n",
       "                 PolynomialFeatures(degree=3, include_bias=True,\n",
       "                                    interaction_only=False, order='C')),\n",
       "                ('linearregression',\n",
       "                 LinearRegression(copy_X=True, fit_intercept=True, n_jobs=None,\n",
       "                                  normalize=False))],\n",
       "         verbose=False)"
      ]
     },
     "execution_count": 368,
     "metadata": {},
     "output_type": "execute_result"
    }
   ],
   "source": [
    "PR1.fit(x1,y1)"
   ]
  },
  {
   "cell_type": "code",
   "execution_count": 369,
   "metadata": {},
   "outputs": [
    {
     "data": {
      "text/plain": [
       "array([  72295.73335177,   49979.46305002,   66888.63260553,\n",
       "        -33105.26212571,   89971.647005  ,  107447.0141248 ,\n",
       "        105406.69439194,  228919.23066484,   37644.38591985,\n",
       "          3752.30087061,   81774.08215188,   42920.31748732,\n",
       "         39566.18081596,   97122.61859416,   67443.7648307 ,\n",
       "         45559.90864049,   63453.207029  ,   78914.02302068,\n",
       "         88625.72004248,   40597.06877498,  115652.84996465,\n",
       "         79693.54037481,   68656.98761235,  167001.93746216,\n",
       "         51571.35304431,   67560.92080748,   47981.94964181,\n",
       "         77292.17027269,   30747.76153857,   43154.69914168,\n",
       "        470121.75871418,  109147.88948795,   80062.77369798,\n",
       "         78556.75285898,   67286.73588799,   43829.54548624,\n",
       "         54311.14841712,   47892.96471313,   63865.71458157,\n",
       "       -516595.16913283,  220474.13489921,   39003.09680698,\n",
       "         52052.40919095,   70282.52410377,   81774.08215188,\n",
       "         44135.48024736,   93577.31790115,  -95276.55691152,\n",
       "        102589.71223092,   42232.06602722,   65038.83187914,\n",
       "         93358.40187129,   83919.43934456,   84947.38719796,\n",
       "         21014.00819711,   77401.16307267,   45875.09321837,\n",
       "         84650.18028453,   45623.16143405,   57324.55150054,\n",
       "         77293.33238345,   86926.78861969,  182778.4310026 ,\n",
       "         43342.24573368,   48607.2534894 ,   38383.77990301,\n",
       "         63250.52533307, -182058.13478786,   78031.55058689,\n",
       "         51134.25807963,   62595.86646036,   65821.02664043,\n",
       "         50741.62796513,   67592.13841933,   68390.0607553 ,\n",
       "        111443.68137397,   89678.55329839,   54494.29469827,\n",
       "         42389.78600595,   44136.83310429,   40833.57777897,\n",
       "        106884.34075093,   42341.06652631,   68065.53741421,\n",
       "         96241.14806137,   67261.21521624,   87848.70362075,\n",
       "         60712.68679561,   53490.28135949,  136904.49050755,\n",
       "         48048.42103561,  184095.66777212,   40116.04912461,\n",
       "         61103.35779777,  154583.09130883,   23463.06380419,\n",
       "         86908.27201847,   50254.83303424,  209700.29053557,\n",
       "         72050.29703473,   71585.76696113,   50128.09266684,\n",
       "         89594.01064232,   -7488.99177956,   94439.88190269,\n",
       "         63870.73916643,   55618.35305356,   74888.60053369,\n",
       "         67943.61340677,   82013.40391042,   41465.90434959,\n",
       "        176030.30461805,   48761.07009899,  113538.03731605,\n",
       "        109883.13930555,  284927.85687765,   45241.48256569,\n",
       "         69455.60009511,  137059.48094138,  128242.15367454,\n",
       "         44327.91162628,   94712.58003024,   50940.13102191,\n",
       "         96522.09883995,   19463.45357396,   61724.43584689,\n",
       "        110779.30132974,   64735.59720108,   27964.03784508,\n",
       "        107135.07922949,   44672.59542974,   65451.02332254,\n",
       "         68645.88073539,   49292.95111701,   15864.59737342,\n",
       "         44157.39256472,   95381.51840993,   49308.18407371,\n",
       "         69348.11373659,  281128.70431906,   42098.90981818,\n",
       "         42304.21871677,   58802.99357182,  199958.80539391,\n",
       "         60804.44910508,  169887.11602504,   69873.82483178,\n",
       "         62398.46341918,   43177.0962624 ,  110862.11903872,\n",
       "        272881.73377182,   34974.84642757,   65216.29798791,\n",
       "         41556.47338659,  140395.26158096,   57952.35860758,\n",
       "         42122.04704757,   38928.59505344,  168350.01773845,\n",
       "         62704.224173  ,   62533.51954123,   39876.70808717,\n",
       "        312313.73189767,   46962.7072138 ])"
      ]
     },
     "execution_count": 369,
     "metadata": {},
     "output_type": "execute_result"
    }
   ],
   "source": [
    "PR1.predict(a)"
   ]
  },
  {
   "cell_type": "code",
   "execution_count": 373,
   "metadata": {},
   "outputs": [
    {
     "data": {
      "text/plain": [
       "-6.949318115027269"
      ]
     },
     "execution_count": 373,
     "metadata": {},
     "output_type": "execute_result"
    }
   ],
   "source": [
    "r2_score(b,PR1.predict(a))"
   ]
  },
  {
   "cell_type": "code",
   "execution_count": 378,
   "metadata": {},
   "outputs": [
    {
     "data": {
      "text/plain": [
       "Pipeline(memory=None,\n",
       "         steps=[('polynomialfeatures',\n",
       "                 PolynomialFeatures(degree=2, include_bias=True,\n",
       "                                    interaction_only=False, order='C')),\n",
       "                ('linearregression',\n",
       "                 LinearRegression(copy_X=True, fit_intercept=True, n_jobs=None,\n",
       "                                  normalize=False))],\n",
       "         verbose=False)"
      ]
     },
     "execution_count": 378,
     "metadata": {},
     "output_type": "execute_result"
    }
   ],
   "source": [
    "PR.fit(l,i)"
   ]
  },
  {
   "cell_type": "code",
   "execution_count": 379,
   "metadata": {},
   "outputs": [
    {
     "data": {
      "text/plain": [
       "array([ 51753.3514365 , 102004.42719194,  48907.52938641,  58485.46764741,\n",
       "       103222.14862572,  54915.45784563,  50512.44349727,  44246.69558179,\n",
       "        59416.10228364,  54299.27861071,  44201.23189673,  75260.49351302,\n",
       "        48058.20667401,  67803.30202757,  76428.0236033 ,  59992.24935579,\n",
       "        58014.80704719,  59180.11204449,  47734.59050307,  72276.85044027,\n",
       "        79064.3999169 ,  71266.23898825,  63404.44748259, 101512.86974091,\n",
       "        85781.04759797,  98914.64713413,  80612.00871227,  58355.77266062,\n",
       "        56877.49192983,  72937.59211714,  62480.54805671,  60925.43276136,\n",
       "        57276.42746767,  77214.47491001,  96857.6699836 ,  91513.84847845,\n",
       "        63268.81243734,  55514.7387496 ,  66911.1250981 ,  68494.55556895,\n",
       "        59474.60858064,  56227.21656957,  58697.39575611,  64434.06558659,\n",
       "        64328.61662316,  61866.16561674,  60974.34734282,  74064.9651432 ,\n",
       "        68691.21804808,  51229.68443942,  80710.84975479,  99136.23661949,\n",
       "        67730.6785698 ,  51526.69981668,  50512.08489353,  44292.1006509 ,\n",
       "        56663.02933265,  55253.94699712,  83134.89567841,  68274.69128854,\n",
       "        51923.83760545,  79500.07120989,  54025.18475124,  61522.60778764,\n",
       "        64090.27197793])"
      ]
     },
     "execution_count": 379,
     "metadata": {},
     "output_type": "execute_result"
    }
   ],
   "source": [
    "PR.predict(o)"
   ]
  },
  {
   "cell_type": "code",
   "execution_count": 380,
   "metadata": {},
   "outputs": [
    {
     "data": {
      "text/plain": [
       "0.20987092621396852"
      ]
     },
     "execution_count": 380,
     "metadata": {},
     "output_type": "execute_result"
    }
   ],
   "source": [
    "r2_score(p,PR.predict(o))"
   ]
  },
  {
   "cell_type": "code",
   "execution_count": 382,
   "metadata": {},
   "outputs": [
    {
     "data": {
      "text/plain": [
       "Pipeline(memory=None,\n",
       "         steps=[('polynomialfeatures',\n",
       "                 PolynomialFeatures(degree=3, include_bias=True,\n",
       "                                    interaction_only=False, order='C')),\n",
       "                ('linearregression',\n",
       "                 LinearRegression(copy_X=True, fit_intercept=True, n_jobs=None,\n",
       "                                  normalize=False))],\n",
       "         verbose=False)"
      ]
     },
     "execution_count": 382,
     "metadata": {},
     "output_type": "execute_result"
    }
   ],
   "source": [
    "PR1.fit(l,i)"
   ]
  },
  {
   "cell_type": "code",
   "execution_count": 383,
   "metadata": {},
   "outputs": [
    {
     "data": {
      "text/plain": [
       "array([ 53837.19429527,  96644.08387388,  60307.89174192,  64028.14397469,\n",
       "       105580.72638779,  48922.93512529,  52542.46907364,  43673.49805876,\n",
       "        55243.19146347,  47068.79757548,  43584.65926566,  78731.47383143,\n",
       "        49818.66751298,  58224.47751007,  91061.4069653 ,  61638.22728558,\n",
       "        48553.85418372,  69434.27366413,  49388.40009705,  70248.96933499,\n",
       "        71729.58889905,  69301.39222259,  74828.75329689, 140086.15116492,\n",
       "       -43478.53658992,  91876.50470658,  54385.67194826,  55130.44225151,\n",
       "        60760.63557736,  79248.90664467,  59670.8903488 ,  49363.28921883,\n",
       "        61851.72957893, -35093.34530155,  86432.72037505,  73009.62136273,\n",
       "        68138.71180293,  54175.87054541,  62055.08594689,  62593.9054212 ,\n",
       "        57658.94557754,  59366.60532119,  57363.05195992,  25816.34213525,\n",
       "        25948.66813491,  55377.29198337,  58791.81684021,  71400.69354869,\n",
       "        63497.14165078,  53393.3773199 , 102068.76470343,  94378.43623179,\n",
       "        62417.22919906,  54517.25418688,  52663.08983858,  43761.8294786 ,\n",
       "        78490.66380235,  54026.28079611,  67532.20761694,  83393.72012327,\n",
       "        54080.07740586,  56508.29366812,  46192.60594673,  86884.22659612,\n",
       "        52856.40712067])"
      ]
     },
     "execution_count": 383,
     "metadata": {},
     "output_type": "execute_result"
    }
   ],
   "source": [
    "PR1.predict(o)"
   ]
  },
  {
   "cell_type": "code",
   "execution_count": 384,
   "metadata": {},
   "outputs": [
    {
     "data": {
      "text/plain": [
       "-0.4146484707334277"
      ]
     },
     "execution_count": 384,
     "metadata": {},
     "output_type": "execute_result"
    }
   ],
   "source": [
    "r2_score(p,PR1.predict(o))"
   ]
  },
  {
   "cell_type": "code",
   "execution_count": 386,
   "metadata": {},
   "outputs": [],
   "source": [
    "g=ds.SUPERFICIE.to_numpy()\n",
    "h=ds.PRIX.to_numpy()"
   ]
  },
  {
   "cell_type": "code",
   "execution_count": 435,
   "metadata": {},
   "outputs": [],
   "source": [
    "c,b,n,m=train_test_split(g,h,test_size=0.3,random_state=77)"
   ]
  },
  {
   "cell_type": "code",
   "execution_count": 436,
   "metadata": {},
   "outputs": [
    {
     "data": {
      "text/plain": [
       "Pipeline(memory=None,\n",
       "         steps=[('polynomialfeatures',\n",
       "                 PolynomialFeatures(degree=2, include_bias=True,\n",
       "                                    interaction_only=False, order='C')),\n",
       "                ('linearregression',\n",
       "                 LinearRegression(copy_X=True, fit_intercept=True, n_jobs=None,\n",
       "                                  normalize=False))],\n",
       "         verbose=False)"
      ]
     },
     "execution_count": 436,
     "metadata": {},
     "output_type": "execute_result"
    }
   ],
   "source": [
    "n=n.reshape(-1,1)\n",
    "c=c.reshape(-1,1)\n",
    "PR.fit(c,n)"
   ]
  },
  {
   "cell_type": "code",
   "execution_count": 437,
   "metadata": {},
   "outputs": [],
   "source": [
    "b=b.reshape(-1,1)\n",
    "m=m.reshape(-1,1)"
   ]
  },
  {
   "cell_type": "code",
   "execution_count": 431,
   "metadata": {},
   "outputs": [
    {
     "data": {
      "text/plain": [
       "array([[ 77525.47068608],\n",
       "       [ 53799.7419697 ],\n",
       "       [ 79530.48232799],\n",
       "       [ 56619.17942705],\n",
       "       [ 57610.70309231],\n",
       "       [ 54965.78592942],\n",
       "       [ 74557.6078978 ],\n",
       "       [ 77442.32194041],\n",
       "       [ 72935.9243862 ],\n",
       "       [ 57604.75838717],\n",
       "       [ 74557.6078978 ],\n",
       "       [ 70548.76812111],\n",
       "       [ 70548.76812111],\n",
       "       [ 78275.32860716],\n",
       "       [ 86965.77768531],\n",
       "       [ 68225.64610634],\n",
       "       [ 85095.22102706],\n",
       "       [ 66717.5644361 ],\n",
       "       [ 54494.5336332 ],\n",
       "       [ 54035.00518284],\n",
       "       [ 94528.41125726],\n",
       "       [ 58825.69206183],\n",
       "       [ 91692.30025908],\n",
       "       [ 70548.76812111],\n",
       "       [ 56448.2388499 ],\n",
       "       [ 54807.40910829],\n",
       "       [ 62214.85764698],\n",
       "       [ 62419.93517482],\n",
       "       [104723.49641634],\n",
       "       [ 60807.70591482],\n",
       "       [ 86359.92249029],\n",
       "       [ 84183.33912435],\n",
       "       [ 79656.31967486],\n",
       "       [ 54035.00518284],\n",
       "       [ 63180.28285151],\n",
       "       [ 69766.76055084],\n",
       "       [ 53324.53716599],\n",
       "       [ 79530.48232799],\n",
       "       [ 61875.28233628],\n",
       "       [ 54340.04694937],\n",
       "       [ 89376.72114116],\n",
       "       [ 55612.07810079],\n",
       "       [ 59770.12522506],\n",
       "       [ 55557.4450113 ],\n",
       "       [103862.98816007],\n",
       "       [ 74884.49003325],\n",
       "       [ 50338.38461172],\n",
       "       [ 49212.61317587],\n",
       "       [ 57492.05887143],\n",
       "       [ 66657.96963678],\n",
       "       [ 66680.31093605],\n",
       "       [ 51595.99967527],\n",
       "       [ 73622.44163158],\n",
       "       [ 70548.76812111],\n",
       "       [ 52182.94341815],\n",
       "       [ 53137.43460548],\n",
       "       [ 65136.5299058 ],\n",
       "       [ 66717.5644361 ],\n",
       "       [100391.23010425],\n",
       "       [ 73339.25670913],\n",
       "       [ 94528.41125726],\n",
       "       [ 65245.41428872],\n",
       "       [ 75048.22720558],\n",
       "       [ 63110.621935  ],\n",
       "       [112441.69299808],\n",
       "       [ 61875.28233628],\n",
       "       [ 67286.55732003],\n",
       "       [ 63180.28285151],\n",
       "       [ 82899.49293241],\n",
       "       [ 75376.27656588],\n",
       "       [ 54035.00518284],\n",
       "       [ 57492.05887143],\n",
       "       [ 74557.6078978 ],\n",
       "       [ 64138.10070695],\n",
       "       [ 79111.42207868],\n",
       "       [ 77525.47068608],\n",
       "       [ 56278.52568697],\n",
       "       [ 69766.76055084],\n",
       "       [ 79111.42207868],\n",
       "       [ 53440.80959346],\n",
       "       [ 54035.00518284],\n",
       "       [103552.33006911],\n",
       "       [ 53884.46172497],\n",
       "       [ 78191.88147594],\n",
       "       [ 58825.69206183],\n",
       "       [ 59012.34040894],\n",
       "       [ 54992.30712726],\n",
       "       [ 50282.47049208],\n",
       "       [ 60026.64256995],\n",
       "       [ 98269.15259562],\n",
       "       [ 74557.6078978 ],\n",
       "       [ 54237.78245764],\n",
       "       [ 49813.2340987 ],\n",
       "       [ 93322.25979814],\n",
       "       [ 88308.69136938],\n",
       "       [ 63811.98073637],\n",
       "       [ 57492.05887143],\n",
       "       [ 75048.22720558],\n",
       "       [ 56733.81842857],\n",
       "       [ 56791.34077155],\n",
       "       [ 76530.12234571],\n",
       "       [ 54035.00518284],\n",
       "       [ 55942.80790355],\n",
       "       [ 56448.2388499 ],\n",
       "       [ 84250.90600643],\n",
       "       [ 92101.90284272],\n",
       "       [ 64038.61688658],\n",
       "       [ 55286.38738193],\n",
       "       [ 74557.6078978 ],\n",
       "       [ 58030.08124639],\n",
       "       [ 95323.63598012],\n",
       "       [ 60278.6062134 ],\n",
       "       [ 54992.30712726],\n",
       "       [ 60415.0332429 ],\n",
       "       [ 50282.47049208],\n",
       "       [ 94304.43244495],\n",
       "       [ 57492.05887143],\n",
       "       [ 49437.85368035],\n",
       "       [ 91116.70781898],\n",
       "       [112011.32666158],\n",
       "       [ 52807.35781988],\n",
       "       [ 81549.25234386],\n",
       "       [ 62419.93517482],\n",
       "       [ 77525.47068608],\n",
       "       [ 63110.621935  ],\n",
       "       [ 74557.6078978 ],\n",
       "       [ 73339.25670913],\n",
       "       [ 78025.08166614],\n",
       "       [ 59975.18404227],\n",
       "       [ 58825.69206183],\n",
       "       [ 62488.51454267],\n",
       "       [ 54650.32300493],\n",
       "       [ 72133.74790624],\n",
       "       [ 66346.04758439],\n",
       "       [ 63110.621935  ],\n",
       "       [ 66866.80262301],\n",
       "       [ 79530.48232799],\n",
       "       [ 78025.08166614],\n",
       "       [ 78902.13445669],\n",
       "       [ 56848.99801089],\n",
       "       [ 65536.83447596],\n",
       "       [ 51918.57739449],\n",
       "       [ 54546.31897363],\n",
       "       [ 81212.11241291],\n",
       "       [ 95481.7642159 ],\n",
       "       [ 59680.80371522],\n",
       "       [ 74557.6078978 ],\n",
       "       [ 53295.60366697],\n",
       "       [ 63110.621935  ],\n",
       "       [ 63250.05017422],\n",
       "       [ 54870.60528931],\n",
       "       [ 82055.32631882],\n",
       "       [ 77027.11853187],\n",
       "       [ 77201.3924975 ],\n",
       "       [ 60026.64256995],\n",
       "       [ 86444.1243344 ],\n",
       "       [ 74557.6078978 ],\n",
       "       [ 58211.76253644],\n",
       "       [ 60610.83826868],\n",
       "       [ 51282.24748329],\n",
       "       [ 92101.90284272],\n",
       "       [ 74133.87973615],\n",
       "       [ 56848.99801089],\n",
       "       [102744.2873096 ]])"
      ]
     },
     "execution_count": 431,
     "metadata": {},
     "output_type": "execute_result"
    }
   ],
   "source": [
    "PR.predict(b)\n"
   ]
  },
  {
   "cell_type": "code",
   "execution_count": 432,
   "metadata": {},
   "outputs": [
    {
     "data": {
      "text/plain": [
       "0.2791419602712214"
      ]
     },
     "execution_count": 432,
     "metadata": {},
     "output_type": "execute_result"
    }
   ],
   "source": [
    "r2_score(m,PR.predict(b))"
   ]
  },
  {
   "cell_type": "code",
   "execution_count": 433,
   "metadata": {},
   "outputs": [],
   "source": [
    "g=(df.SUPERFICIE**2).to_numpy()\n",
    "h=df.PRIX.to_numpy()"
   ]
  },
  {
   "cell_type": "code",
   "execution_count": 434,
   "metadata": {},
   "outputs": [],
   "source": [
    "c,b,n,m=train_test_split(g,h,test_size=0.3,random_state=77)"
   ]
  },
  {
   "cell_type": "code",
   "execution_count": 438,
   "metadata": {},
   "outputs": [
    {
     "data": {
      "text/plain": [
       "Pipeline(memory=None,\n",
       "         steps=[('polynomialfeatures',\n",
       "                 PolynomialFeatures(degree=3, include_bias=True,\n",
       "                                    interaction_only=False, order='C')),\n",
       "                ('linearregression',\n",
       "                 LinearRegression(copy_X=True, fit_intercept=True, n_jobs=None,\n",
       "                                  normalize=False))],\n",
       "         verbose=False)"
      ]
     },
     "execution_count": 438,
     "metadata": {},
     "output_type": "execute_result"
    }
   ],
   "source": [
    "PR1.fit(c,n)"
   ]
  },
  {
   "cell_type": "code",
   "execution_count": 439,
   "metadata": {},
   "outputs": [
    {
     "data": {
      "text/plain": [
       "0.15191889778313517"
      ]
     },
     "execution_count": 439,
     "metadata": {},
     "output_type": "execute_result"
    }
   ],
   "source": [
    "r2_score(m,PR1.predict(b))"
   ]
  },
  {
   "cell_type": "code",
   "execution_count": null,
   "metadata": {},
   "outputs": [],
   "source": []
  }
 ],
 "metadata": {
  "kernelspec": {
   "display_name": "Python 3",
   "language": "python",
   "name": "python3"
  },
  "language_info": {
   "codemirror_mode": {
    "name": "ipython",
    "version": 3
   },
   "file_extension": ".py",
   "mimetype": "text/x-python",
   "name": "python",
   "nbconvert_exporter": "python",
   "pygments_lexer": "ipython3",
   "version": "3.7.4"
  }
 },
 "nbformat": 4,
 "nbformat_minor": 2
}
