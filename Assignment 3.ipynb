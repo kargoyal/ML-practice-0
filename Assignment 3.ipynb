{
 "cells": [
  {
   "cell_type": "markdown",
   "metadata": {},
   "source": [
    "#### 1. Write a program to generate an array of 30 numbers (1 to 30) of all possible shapes."
   ]
  },
  {
   "cell_type": "code",
   "execution_count": 13,
   "metadata": {},
   "outputs": [],
   "source": [
    "import numpy as n"
   ]
  },
  {
   "cell_type": "code",
   "execution_count": 26,
   "metadata": {},
   "outputs": [
    {
     "data": {
      "text/plain": [
       "array([[28,  1, 14, 26,  6, 29,  4,  9,  3, 25],\n",
       "       [29, 25, 26, 18, 29, 22, 14, 29,  9, 22],\n",
       "       [ 6, 15,  4,  6, 23,  9,  8, 17, 12, 28]])"
      ]
     },
     "execution_count": 26,
     "metadata": {},
     "output_type": "execute_result"
    }
   ],
   "source": [
    "g=n.random.randint(1,30,30)\n",
    "g.reshape(5,6)\n",
    "g.reshape(10,3)\n",
    "g.reshape(3,10)"
   ]
  },
  {
   "cell_type": "markdown",
   "metadata": {},
   "source": [
    "#### 2.Write a program to genrate an array of random integer numbers between 10 to 50 numbers of all possible shapes."
   ]
  },
  {
   "cell_type": "code",
   "execution_count": 29,
   "metadata": {},
   "outputs": [
    {
     "data": {
      "text/plain": [
       "array([[11, 14, 14],\n",
       "       [43, 27, 26],\n",
       "       [46, 17, 24]])"
      ]
     },
     "execution_count": 29,
     "metadata": {},
     "output_type": "execute_result"
    }
   ],
   "source": [
    "n.random.randint(10,50,9).reshape(3,3)"
   ]
  },
  {
   "cell_type": "markdown",
   "metadata": {},
   "source": [
    "#### 3. Write a program to generate an array of 100 equally spaced numbers between 1 to 7 numbers of possible shapes."
   ]
  },
  {
   "cell_type": "code",
   "execution_count": 33,
   "metadata": {},
   "outputs": [
    {
     "data": {
      "text/plain": [
       "array([1.        , 1.06060606, 1.12121212, 1.18181818, 1.24242424,\n",
       "       1.3030303 , 1.36363636, 1.42424242, 1.48484848, 1.54545455,\n",
       "       1.60606061, 1.66666667, 1.72727273, 1.78787879, 1.84848485,\n",
       "       1.90909091, 1.96969697, 2.03030303, 2.09090909, 2.15151515,\n",
       "       2.21212121, 2.27272727, 2.33333333, 2.39393939, 2.45454545,\n",
       "       2.51515152, 2.57575758, 2.63636364, 2.6969697 , 2.75757576,\n",
       "       2.81818182, 2.87878788, 2.93939394, 3.        , 3.06060606,\n",
       "       3.12121212, 3.18181818, 3.24242424, 3.3030303 , 3.36363636,\n",
       "       3.42424242, 3.48484848, 3.54545455, 3.60606061, 3.66666667,\n",
       "       3.72727273, 3.78787879, 3.84848485, 3.90909091, 3.96969697,\n",
       "       4.03030303, 4.09090909, 4.15151515, 4.21212121, 4.27272727,\n",
       "       4.33333333, 4.39393939, 4.45454545, 4.51515152, 4.57575758,\n",
       "       4.63636364, 4.6969697 , 4.75757576, 4.81818182, 4.87878788,\n",
       "       4.93939394, 5.        , 5.06060606, 5.12121212, 5.18181818,\n",
       "       5.24242424, 5.3030303 , 5.36363636, 5.42424242, 5.48484848,\n",
       "       5.54545455, 5.60606061, 5.66666667, 5.72727273, 5.78787879,\n",
       "       5.84848485, 5.90909091, 5.96969697, 6.03030303, 6.09090909,\n",
       "       6.15151515, 6.21212121, 6.27272727, 6.33333333, 6.39393939,\n",
       "       6.45454545, 6.51515152, 6.57575758, 6.63636364, 6.6969697 ,\n",
       "       6.75757576, 6.81818182, 6.87878788, 6.93939394, 7.        ])"
      ]
     },
     "execution_count": 33,
     "metadata": {},
     "output_type": "execute_result"
    }
   ],
   "source": [
    "n.linspace(1,7,100,True)"
   ]
  },
  {
   "cell_type": "markdown",
   "metadata": {},
   "source": [
    "#### 4. Write a program to filter out all the numbers (generated from que.3) which is greater than 3.84 and less than 6.57."
   ]
  },
  {
   "cell_type": "code",
   "execution_count": 92,
   "metadata": {},
   "outputs": [
    {
     "data": {
      "text/plain": [
       "array([1, 4, 6, 8])"
      ]
     },
     "execution_count": 92,
     "metadata": {},
     "output_type": "execute_result"
    }
   ],
   "source": [
    "h=n.array([1,4,6,8])\n",
    "h"
   ]
  },
  {
   "cell_type": "code",
   "execution_count": 107,
   "metadata": {},
   "outputs": [
    {
     "data": {
      "text/plain": [
       "array([1, 4, 6, 8])"
      ]
     },
     "execution_count": 107,
     "metadata": {},
     "output_type": "execute_result"
    }
   ],
   "source": [
    "g=h[h>3.56]  \n",
    "gh=g[g<6.57]\n",
    "gh\n",
    "h"
   ]
  },
  {
   "cell_type": "markdown",
   "metadata": {},
   "source": [
    "#### Write a program to replace first 3 numbers with 100 and middle 3'numbers with 200 and last 3 numbers with 300 in output of que.5"
   ]
  },
  {
   "cell_type": "code",
   "execution_count": 130,
   "metadata": {},
   "outputs": [
    {
     "data": {
      "text/plain": [
       "array([100, 200, 300, 300, 300])"
      ]
     },
     "execution_count": 130,
     "metadata": {},
     "output_type": "execute_result"
    }
   ],
   "source": [
    "o=n.array(range(0,5))\n",
    "o[0:3]=100\n",
    "o[1:5]=200\n",
    "o[2:]=300\n",
    "o"
   ]
  },
  {
   "cell_type": "markdown",
   "metadata": {},
   "source": [
    "#### 6. Write a program to create a 5x5 matrix of random int numbers between 10 to 100 and"
   ]
  },
  {
   "cell_type": "markdown",
   "metadata": {},
   "source": [
    "##### replace upper triangle with zeros and print as a new matrix"
   ]
  },
  {
   "cell_type": "code",
   "execution_count": 144,
   "metadata": {},
   "outputs": [
    {
     "data": {
      "text/plain": [
       "array([[23, 82, 26, 98, 14],\n",
       "       [60, 25, 77, 48, 17],\n",
       "       [21, 31, 80, 76, 24],\n",
       "       [55, 46, 73, 68, 82],\n",
       "       [39, 64, 17, 89, 28]])"
      ]
     },
     "execution_count": 144,
     "metadata": {},
     "output_type": "execute_result"
    }
   ],
   "source": [
    "j=n.random.randint(10,100,25).reshape(5,5)\n",
    "j"
   ]
  },
  {
   "cell_type": "code",
   "execution_count": 145,
   "metadata": {},
   "outputs": [
    {
     "data": {
      "text/plain": [
       "array([[23,  0,  0,  0,  0],\n",
       "       [60, 25,  0,  0,  0],\n",
       "       [21, 31, 80,  0,  0],\n",
       "       [55, 46, 73, 68,  0],\n",
       "       [39, 64, 17, 89, 28]])"
      ]
     },
     "execution_count": 145,
     "metadata": {},
     "output_type": "execute_result"
    }
   ],
   "source": [
    "c=0\n",
    "for i in j:\n",
    "    i[c+1:]=\"0\"\n",
    "    c=c+1\n",
    "j    "
   ]
  },
  {
   "cell_type": "markdown",
   "metadata": {},
   "source": [
    "#### replace lower triangle with zeros and print as a new matrix"
   ]
  },
  {
   "cell_type": "code",
   "execution_count": 167,
   "metadata": {},
   "outputs": [
    {
     "data": {
      "text/plain": [
       "array([[90, 50, 74, 85, 54],\n",
       "       [47, 68, 39, 19, 23],\n",
       "       [26, 61, 88, 35, 58],\n",
       "       [34, 49, 57, 96, 18],\n",
       "       [48, 66, 51, 20, 14]])"
      ]
     },
     "execution_count": 167,
     "metadata": {},
     "output_type": "execute_result"
    }
   ],
   "source": [
    "j=n.random.randint(10,100,25).reshape(5,5)\n",
    "j"
   ]
  },
  {
   "cell_type": "code",
   "execution_count": 168,
   "metadata": {},
   "outputs": [
    {
     "data": {
      "text/plain": [
       "array([[90, 50, 74, 85, 54],\n",
       "       [ 0, 68, 39, 19, 23],\n",
       "       [ 0,  0, 88, 35, 58],\n",
       "       [ 0,  0,  0, 96, 18],\n",
       "       [ 0,  0,  0,  0, 14]])"
      ]
     },
     "execution_count": 168,
     "metadata": {},
     "output_type": "execute_result"
    }
   ],
   "source": [
    "c=1\n",
    "for i in j:\n",
    "    i[:c-1]=0\n",
    "    c=c+1\n",
    "j"
   ]
  },
  {
   "cell_type": "code",
   "execution_count": null,
   "metadata": {},
   "outputs": [],
   "source": []
  }
 ],
 "metadata": {
  "kernelspec": {
   "display_name": "Python 3",
   "language": "python",
   "name": "python3"
  },
  "language_info": {
   "codemirror_mode": {
    "name": "ipython",
    "version": 3
   },
   "file_extension": ".py",
   "mimetype": "text/x-python",
   "name": "python",
   "nbconvert_exporter": "python",
   "pygments_lexer": "ipython3",
   "version": "3.7.4"
  }
 },
 "nbformat": 4,
 "nbformat_minor": 2
}
